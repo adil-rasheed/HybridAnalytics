{
 "cells": [
  {
   "cell_type": "markdown",
   "metadata": {},
   "source": [
    "# Importing the required packages"
   ]
  },
  {
   "cell_type": "code",
   "execution_count": 17,
   "metadata": {},
   "outputs": [],
   "source": [
    "import numpy as np\n",
    "import matplotlib.pyplot as plt\n",
    "%matplotlib inline\n",
    "import warnings\n",
    "warnings.filterwarnings('ignore', '.*do not.*',)"
   ]
  },
  {
   "cell_type": "code",
   "execution_count": 2,
   "metadata": {},
   "outputs": [],
   "source": [
    "# plate size, m\n",
    "w = h = 0.010\n",
    "# intervals in x-, y- directions, mm\n",
    "dx = dy = 0.0002\n",
    "# Thermal diffusivity of steel, mm2.s-1\n",
    "K = 4.*0.001*0.001\n",
    "rho=1.0\n",
    "cp=1.0\n",
    "Tcool, Thot = 300, 700\n",
    "nsteps = 20000"
   ]
  },
  {
   "cell_type": "code",
   "execution_count": 3,
   "metadata": {},
   "outputs": [],
   "source": [
    "nx, ny = int(w/dx), int(h/dy)\n",
    "dx2, dy2 = dx*dx, dy*dy\n",
    "dt = dx2 * dy2 / (2 * K * (dx2 + dy2)/rho/cp)\n",
    "T0 = Tcool * np.ones((nx, ny))\n",
    "T = np.empty((nx, ny))\n",
    "q = np.zeros((nx, ny))"
   ]
  },
  {
   "cell_type": "code",
   "execution_count": 4,
   "metadata": {},
   "outputs": [],
   "source": [
    "def init_circ(T0):\n",
    "    # Initial conditions - ring of inner radius r, width dr centred at (cx,cy) (mm)\n",
    "    r, cx, cy = 0.002, 0.005, 0.005\n",
    "    r2 = r**2\n",
    "    for i in range(nx):\n",
    "        for j in range(ny):\n",
    "            p2 = (i*dx-cx)**2 + (j*dy-cy)**2\n",
    "            if p2 < r2:\n",
    "                T0[i,j] = Thot\n",
    "    return T0"
   ]
  },
  {
   "cell_type": "code",
   "execution_count": 5,
   "metadata": {},
   "outputs": [],
   "source": [
    "def init_square(T0):\n",
    "    dl,cx,cy=0.002,0.005,0.005\n",
    "    for i in range(nx):\n",
    "        for j in range(ny):\n",
    "            if (i*dx > cx-dl) and (i*dx < cx+dl) and (j*dy > cy-dl) and (j*dy <cy+dl):\n",
    "                T0[i,j]=Thot\n",
    "    return T0"
   ]
  },
  {
   "cell_type": "code",
   "execution_count": 6,
   "metadata": {},
   "outputs": [],
   "source": [
    "def do_timestep(T0, T):\n",
    "    # Propagate with forward-difference in time, central-difference in space\n",
    "    T[1:-1, 1:-1] = T0[1:-1, 1:-1] + (K * dt/rho/cp) * (\n",
    "          (T0[2:, 1:-1] - 2*T0[1:-1, 1:-1] + T0[:-2, 1:-1])/dx2\n",
    "          + (T0[1:-1, 2:] - 2*T0[1:-1, 1:-1] + T0[1:-1, :-2])/dy2 ) +q[1:-1,1:-1]*(dt/rho/cp)\n",
    "\n",
    "    T0 = T.copy()\n",
    "    return T0, T"
   ]
  },
  {
   "cell_type": "markdown",
   "metadata": {},
   "source": [
    "# Solve the equations to generate the temperature field"
   ]
  },
  {
   "cell_type": "code",
   "execution_count": 7,
   "metadata": {},
   "outputs": [],
   "source": [
    "X=np.zeros((nsteps,nx,ny))\n",
    "T0=init_square(T0)\n",
    "for m in range(nsteps):\n",
    "    T0, T = do_timestep(T0, T)\n",
    "    X[m,:,:]=T[:,:]"
   ]
  },
  {
   "cell_type": "code",
   "execution_count": 8,
   "metadata": {},
   "outputs": [
    {
     "data": {
      "image/png": "[encoded data removed]",
      "text/plain": [
       "<matplotlib.figure.Figure at 0x24d85138278>"
      ]
     },
     "metadata": {},
     "output_type": "display_data"
    }
   ],
   "source": [
    "plt.contourf(X[0,:,:])\n",
    "plt.show()"
   ]
  },
  {
   "cell_type": "markdown",
   "metadata": {},
   "source": [
    "# Preparing data for training"
   ]
  },
  {
   "cell_type": "code",
   "execution_count": 9,
   "metadata": {},
   "outputs": [],
   "source": [
    "X_train=np.reshape(X, (len(X), nx, ny, 1))"
   ]
  },
  {
   "cell_type": "code",
   "execution_count": 10,
   "metadata": {},
   "outputs": [],
   "source": [
    "# We want to predict the temperature field at time \"n+1\" using the temperature field at time \"n\"\n",
    "X1_train=X_train[0:len(X_train)-1,:,:,:]\n",
    "y1_train=X_train[1:len(X_train),:,:,:]"
   ]
  },
  {
   "cell_type": "code",
   "execution_count": 18,
   "metadata": {},
   "outputs": [],
   "source": [
    "from keras.layers import Input, Dense, Conv2D, MaxPooling2D, UpSampling2D\n",
    "from keras.models import Model\n",
    "from keras import backend as K\n",
    "input_img = Input(shape=(nx, ny, 1))\n",
    "x = Conv2D(16, (3, 3), activation='relu', padding='same')(input_img)\n",
    "x = Conv2D(8, (3, 3), activation='relu', padding='same')(x)\n",
    "encoded = Conv2D(8, (3, 3), activation='relu', padding='same')(x)\n",
    "x = Conv2D(8, (3, 3), activation='relu', padding='same')(encoded)\n",
    "x = Conv2D(8, (3, 3), activation='relu', padding='same')(x)\n",
    "x = Conv2D(16, (3, 3), activation='relu',padding='same')(x)\n",
    "decoded = Conv2D(1, (3, 3), activation='linear', padding='same')(x)\n",
    "autoencoder = Model(input_img, decoded)\n",
    "autoencoder.compile(loss='mean_squared_error', optimizer='adam')"
   ]
  },
  {
   "cell_type": "code",
   "execution_count": 12,
   "metadata": {},
   "outputs": [
    {
     "name": "stdout",
     "output_type": "stream",
     "text": [
      "Epoch 1/100\n",
      "19999/19999 [==============================] - 8s 401us/step - loss: 333.5329\n",
      "Epoch 2/100\n",
      "19999/19999 [==============================] - 4s 201us/step - loss: 2.7640\n",
      "Epoch 3/100\n",
      "19999/19999 [==============================] - 4s 202us/step - loss: 0.6712\n",
      "Epoch 4/100\n",
      "19999/19999 [==============================] - 4s 201us/step - loss: 0.3725 2s - loss: 0 \n",
      "Epoch 5/100\n",
      "19999/19999 [==============================] - 4s 202us/step - loss: 0.2081\n",
      "Epoch 6/100\n",
      "19999/19999 [==============================] - 4s 202us/step - loss: 0.1398\n",
      "Epoch 7/100\n",
      "19999/19999 [==============================] - 4s 201us/step - loss: 0.1069\n",
      "Epoch 8/100\n",
      "19999/19999 [==============================] - 4s 203us/step - loss: 0.0865\n",
      "Epoch 9/100\n",
      "19999/19999 [==============================] - 4s 202us/step - loss: 0.0728\n",
      "Epoch 10/100\n",
      "19999/19999 [==============================] - 4s 203us/step - loss: 0.0885\n",
      "Epoch 11/100\n",
      "19999/19999 [==============================] - 4s 203us/step - loss: 0.0680\n",
      "Epoch 12/100\n",
      "19999/19999 [==============================] - 4s 202us/step - loss: 0.0484\n",
      "Epoch 13/100\n",
      "19999/19999 [==============================] - 4s 203us/step - loss: 0.0436\n",
      "Epoch 14/100\n",
      "19999/19999 [==============================] - 4s 203us/step - loss: 0.0408\n",
      "Epoch 15/100\n",
      "19999/19999 [==============================] - 4s 204us/step - loss: 0.0376\n",
      "Epoch 16/100\n",
      "19999/19999 [==============================] - 4s 203us/step - loss: 0.0477\n",
      "Epoch 17/100\n",
      "19999/19999 [==============================] - 4s 206us/step - loss: 0.0564\n",
      "Epoch 18/100\n",
      "19999/19999 [==============================] - 4s 205us/step - loss: 0.0355 0s - loss: 0.035\n",
      "Epoch 19/100\n",
      "19999/19999 [==============================] - 4s 204us/step - loss: 0.0199\n",
      "Epoch 20/100\n",
      "19999/19999 [==============================] - 4s 203us/step - loss: 0.0207\n",
      "Epoch 21/100\n",
      "19999/19999 [==============================] - 4s 204us/step - loss: 0.2184\n",
      "Epoch 22/100\n",
      "19999/19999 [==============================] - 4s 203us/step - loss: 0.0819\n",
      "Epoch 23/100\n",
      "19999/19999 [==============================] - 4s 203us/step - loss: 0.0224\n",
      "Epoch 24/100\n",
      "19999/19999 [==============================] - 4s 204us/step - loss: 0.0147\n",
      "Epoch 25/100\n",
      "19999/19999 [==============================] - 4s 203us/step - loss: 0.0162\n",
      "Epoch 26/100\n",
      "19999/19999 [==============================] - 4s 203us/step - loss: 0.0161\n",
      "Epoch 27/100\n",
      "19999/19999 [==============================] - 4s 205us/step - loss: 0.0126\n",
      "Epoch 28/100\n",
      "19999/19999 [==============================] - 4s 204us/step - loss: 0.0124\n",
      "Epoch 29/100\n",
      "19999/19999 [==============================] - 4s 204us/step - loss: 0.0115\n",
      "Epoch 30/100\n",
      "19999/19999 [==============================] - 4s 204us/step - loss: 0.0112\n",
      "Epoch 31/100\n",
      "19999/19999 [==============================] - 4s 203us/step - loss: 0.0108\n",
      "Epoch 32/100\n",
      "19999/19999 [==============================] - 4s 204us/step - loss: 0.0100\n",
      "Epoch 33/100\n",
      "19999/19999 [==============================] - 4s 204us/step - loss: 0.0118\n",
      "Epoch 34/100\n",
      "19999/19999 [==============================] - 4s 202us/step - loss: 0.0198\n",
      "Epoch 35/100\n",
      "19999/19999 [==============================] - 4s 205us/step - loss: 0.0312\n",
      "Epoch 36/100\n",
      "19999/19999 [==============================] - 4s 204us/step - loss: 0.0297\n",
      "Epoch 37/100\n",
      "19999/19999 [==============================] - 4s 205us/step - loss: 0.0138 0s - loss: 0.01\n",
      "Epoch 38/100\n",
      "19999/19999 [==============================] - 4s 205us/step - loss: 0.0558\n",
      "Epoch 39/100\n",
      "19999/19999 [==============================] - 4s 203us/step - loss: 0.2636\n",
      "Epoch 40/100\n",
      "19999/19999 [==============================] - 4s 204us/step - loss: 0.0226 0s - loss: 0.0\n",
      "Epoch 41/100\n",
      "19999/19999 [==============================] - 4s 204us/step - loss: 0.0105\n",
      "Epoch 42/100\n",
      "19999/19999 [==============================] - 4s 204us/step - loss: 0.0089\n",
      "Epoch 43/100\n",
      "19999/19999 [==============================] - 4s 204us/step - loss: 0.0080\n",
      "Epoch 44/100\n",
      "19999/19999 [==============================] - 4s 204us/step - loss: 0.0076\n",
      "Epoch 45/100\n",
      "19999/19999 [==============================] - 4s 207us/step - loss: 0.0073\n",
      "Epoch 46/100\n",
      "19999/19999 [==============================] - 4s 204us/step - loss: 0.0071\n",
      "Epoch 47/100\n",
      "19999/19999 [==============================] - 4s 205us/step - loss: 0.0075\n",
      "Epoch 48/100\n",
      "19999/19999 [==============================] - 4s 204us/step - loss: 0.0170\n",
      "Epoch 49/100\n",
      "19999/19999 [==============================] - 4s 204us/step - loss: 0.0126\n",
      "Epoch 50/100\n",
      "19999/19999 [==============================] - 4s 206us/step - loss: 0.0076\n",
      "Epoch 51/100\n",
      "19999/19999 [==============================] - 4s 205us/step - loss: 0.0068\n",
      "Epoch 52/100\n",
      "19999/19999 [==============================] - 4s 204us/step - loss: 0.0492\n",
      "Epoch 53/100\n",
      "19999/19999 [==============================] - 4s 205us/step - loss: 0.0139\n",
      "Epoch 54/100\n",
      "19999/19999 [==============================] - 4s 205us/step - loss: 0.0071\n",
      "Epoch 55/100\n",
      "19999/19999 [==============================] - 4s 205us/step - loss: 0.0084\n",
      "Epoch 56/100\n",
      "19999/19999 [==============================] - 4s 207us/step - loss: 0.0538\n",
      "Epoch 57/100\n",
      "19999/19999 [==============================] - 4s 204us/step - loss: 0.0159\n",
      "Epoch 58/100\n",
      "19999/19999 [==============================] - 4s 207us/step - loss: 0.0073\n",
      "Epoch 59/100\n",
      "19999/19999 [==============================] - 4s 206us/step - loss: 0.0075\n",
      "Epoch 60/100\n",
      "19999/19999 [==============================] - 4s 216us/step - loss: 0.0056\n",
      "Epoch 61/100\n",
      "19999/19999 [==============================] - 4s 213us/step - loss: 0.0115\n",
      "Epoch 62/100\n",
      "19999/19999 [==============================] - 4s 211us/step - loss: 0.0091\n",
      "Epoch 63/100\n",
      "19999/19999 [==============================] - 4s 219us/step - loss: 0.0263\n",
      "Epoch 64/100\n",
      "19999/19999 [==============================] - 4s 220us/step - loss: 0.6587\n",
      "Epoch 65/100\n",
      "19999/19999 [==============================] - 4s 222us/step - loss: 0.8042\n",
      "Epoch 66/100\n",
      "19999/19999 [==============================] - 4s 220us/step - loss: 0.1678\n",
      "Epoch 67/100\n",
      "19999/19999 [==============================] - 4s 223us/step - loss: 0.0197\n",
      "Epoch 68/100\n",
      "19999/19999 [==============================] - 4s 219us/step - loss: 0.0118\n",
      "Epoch 69/100\n",
      "19999/19999 [==============================] - 4s 224us/step - loss: 0.0101\n",
      "Epoch 70/100\n",
      "19999/19999 [==============================] - 4s 224us/step - loss: 0.0075\n",
      "Epoch 71/100\n",
      "19999/19999 [==============================] - 4s 222us/step - loss: 0.0065\n",
      "Epoch 72/100\n",
      "19999/19999 [==============================] - 4s 224us/step - loss: 0.0059\n",
      "Epoch 73/100\n",
      "19999/19999 [==============================] - 4s 222us/step - loss: 0.0058\n",
      "Epoch 74/100\n",
      "19999/19999 [==============================] - 4s 222us/step - loss: 0.0055\n",
      "Epoch 75/100\n",
      "19999/19999 [==============================] - 4s 220us/step - loss: 0.0054\n",
      "Epoch 76/100\n",
      "19999/19999 [==============================] - 4s 211us/step - loss: 0.0062\n",
      "Epoch 77/100\n",
      "19999/19999 [==============================] - 4s 211us/step - loss: 0.0083\n",
      "Epoch 78/100\n",
      "19999/19999 [==============================] - 4s 213us/step - loss: 0.0059\n",
      "Epoch 79/100\n",
      "19999/19999 [==============================] - 4s 212us/step - loss: 0.0060\n",
      "Epoch 80/100\n",
      "19999/19999 [==============================] - 4s 208us/step - loss: 0.0061\n",
      "Epoch 81/100\n",
      "19999/19999 [==============================] - 4s 207us/step - loss: 0.0343\n",
      "Epoch 82/100\n",
      "19999/19999 [==============================] - 4s 206us/step - loss: 0.0651\n",
      "Epoch 83/100\n",
      "19999/19999 [==============================] - 4s 209us/step - loss: 0.0067 0s - los\n",
      "Epoch 84/100\n",
      "19999/19999 [==============================] - 4s 210us/step - loss: 0.0063\n",
      "Epoch 85/100\n",
      "19999/19999 [==============================] - 4s 212us/step - loss: 0.0193\n",
      "Epoch 86/100\n",
      "19999/19999 [==============================] - 4s 211us/step - loss: 0.5774\n",
      "Epoch 87/100\n",
      "19999/19999 [==============================] - 4s 207us/step - loss: 1.2345\n",
      "Epoch 88/100\n",
      "19999/19999 [==============================] - 4s 207us/step - loss: 5.6412\n",
      "Epoch 89/100\n",
      "19999/19999 [==============================] - 4s 210us/step - loss: 0.3467\n",
      "Epoch 90/100\n",
      "19999/19999 [==============================] - 4s 209us/step - loss: 0.0534\n",
      "Epoch 91/100\n",
      "19999/19999 [==============================] - 4s 211us/step - loss: 0.0304\n",
      "Epoch 92/100\n"
     ]
    },
    {
     "name": "stdout",
     "output_type": "stream",
     "text": [
      "19999/19999 [==============================] - 4s 208us/step - loss: 0.0237\n",
      "Epoch 93/100\n",
      "19999/19999 [==============================] - 4s 210us/step - loss: 0.0271\n",
      "Epoch 94/100\n",
      "19999/19999 [==============================] - 4s 207us/step - loss: 0.0178\n",
      "Epoch 95/100\n",
      "19999/19999 [==============================] - 4s 208us/step - loss: 0.0149\n",
      "Epoch 96/100\n",
      "19999/19999 [==============================] - 4s 210us/step - loss: 0.0140\n",
      "Epoch 97/100\n",
      "19999/19999 [==============================] - 4s 214us/step - loss: 0.0128\n",
      "Epoch 98/100\n",
      "19999/19999 [==============================] - 4s 211us/step - loss: 0.0116\n",
      "Epoch 99/100\n",
      "19999/19999 [==============================] - 4s 212us/step - loss: 0.0113\n",
      "Epoch 100/100\n",
      "19999/19999 [==============================] - 4s 209us/step - loss: 0.0102\n"
     ]
    },
    {
     "data": {
      "text/plain": [
       "<keras.callbacks.History at 0x24db5f84358>"
      ]
     },
     "execution_count": 12,
     "metadata": {},
     "output_type": "execute_result"
    }
   ],
   "source": [
    "autoencoder.fit(X1_train, y1_train,epochs=100,batch_size=500)"
   ]
  },
  {
   "cell_type": "code",
   "execution_count": 13,
   "metadata": {},
   "outputs": [
    {
     "data": {
      "image/png": "[encoded data removed]",
      "text/plain": [
       "<matplotlib.figure.Figure at 0x24dd0f63f28>"
      ]
     },
     "metadata": {},
     "output_type": "display_data"
    }
   ],
   "source": [
    "plt.contourf(X1_train[0,:,:,0])\n",
    "plt.show()"
   ]
  },
  {
   "cell_type": "markdown",
   "metadata": {},
   "source": [
    "# Make the predictions using CNN"
   ]
  },
  {
   "cell_type": "code",
   "execution_count": 14,
   "metadata": {},
   "outputs": [],
   "source": [
    "xtest=X1_train[0,:,:,0]\n",
    "xtest=np.reshape(xtest,(1,nx,ny,1))\n",
    "Xconv=np.zeros((nsteps,nx,ny))\n",
    "for m in range(nsteps):\n",
    "    xtest=autoencoder.predict(xtest)\n",
    "    Xconv[m,:,:]=xtest[0,:,:,0]"
   ]
  },
  {
   "cell_type": "code",
   "execution_count": 15,
   "metadata": {},
   "outputs": [
    {
     "data": {
      "image/png": "[encoded data removed]",
      "text/plain": [
       "<matplotlib.figure.Figure at 0x24dd0f6a7f0>"
      ]
     },
     "metadata": {},
     "output_type": "display_data"
    }
   ],
   "source": [
    "plt.contourf(Xconv[200,:,:])\n",
    "plt.show()"
   ]
  },
  {
   "cell_type": "code",
   "execution_count": 16,
   "metadata": {},
   "outputs": [
    {
     "data": {
      "image/png": "[encoded data removed]",
      "text/plain": [
       "<matplotlib.figure.Figure at 0x24dd0b3bac8>"
      ]
     },
     "metadata": {},
     "output_type": "display_data"
    }
   ],
   "source": [
    "plt.plot(Xconv[0:2000,25,25])\n",
    "plt.plot(X1_train[0:2000,25,25,0])\n",
    "plt.show()"
   ]
  },
  {
   "cell_type": "code",
   "execution_count": null,
   "metadata": {},
   "outputs": [],
   "source": []
  }
 ],
 "metadata": {
  "kernelspec": {
   "display_name": "Python 3",
   "language": "python",
   "name": "python3"
  },
  "language_info": {
   "codemirror_mode": {
    "name": "ipython",
    "version": 3
   },
   "file_extension": ".py",
   "mimetype": "text/x-python",
   "name": "python",
   "nbconvert_exporter": "python",
   "pygments_lexer": "ipython3",
   "version": "3.6.4"
  }
 },
 "nbformat": 4,
 "nbformat_minor": 2
}
