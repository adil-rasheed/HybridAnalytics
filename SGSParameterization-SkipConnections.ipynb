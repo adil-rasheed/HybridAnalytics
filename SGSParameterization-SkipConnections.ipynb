{
 "cells": [
  {
   "cell_type": "code",
   "execution_count": 1,
   "metadata": {},
   "outputs": [
    {
     "data": {
      "application/javascript": [
       "IPython.OutputArea.prototype._should_scroll = function(lines) {\n",
       "    return false;\n",
       "}"
      ],
      "text/plain": [
       "<IPython.core.display.Javascript object>"
      ]
     },
     "metadata": {},
     "output_type": "display_data"
    }
   ],
   "source": [
    "%%javascript\n",
    "IPython.OutputArea.prototype._should_scroll = function(lines) {\n",
    "    return false;\n",
    "}"
   ]
  },
  {
   "cell_type": "code",
   "execution_count": 14,
   "metadata": {},
   "outputs": [],
   "source": [
    "import numpy as np\n",
    "import matplotlib.pyplot as plt\n",
    "from sklearn.metrics import mean_squared_error\n",
    "%matplotlib inline\n",
    "# Make a neural network architecture\n",
    "import keras\n",
    "from keras.layers import Dense, Input, Concatenate\n",
    "from keras.models import Model\n",
    "from keras.utils import plot_model\n",
    "from IPython.display import SVG\n",
    "from keras.utils.vis_utils import model_to_dot\n",
    "import os\n",
    "import warnings\n",
    "warnings.filterwarnings('ignore')"
   ]
  },
  {
   "cell_type": "code",
   "execution_count": 3,
   "metadata": {},
   "outputs": [],
   "source": [
    "def normalize(u,mean,std):\n",
    "    unorm = (u - mean) / std  # Mean of 0.0 and variance of 1.0\n",
    "    return unorm"
   ]
  },
  {
   "cell_type": "code",
   "execution_count": 4,
   "metadata": {},
   "outputs": [],
   "source": [
    "def load_data(filename,data_size):\n",
    "    #Loading data from Tecplot file (check number of skiprows) - no tecplot header\n",
    "    fine_data = np.loadtxt(filename)\n",
    "\n",
    "    # Store in numpy array\n",
    "    vort_fc= np.arange((data_size + 1)* (data_size + 1), dtype='double').reshape(data_size + 1, data_size + 1)\n",
    "    vort_cs = np.arange((data_size + 1) * (data_size + 1), dtype='double').reshape(data_size + 1, data_size + 1)\n",
    "\n",
    "    iter = 0\n",
    "    for j in range(0, data_size + 1):\n",
    "        for i in range(0, data_size + 1):\n",
    "            vort_fc[i, j] = fine_data[iter, 0]\n",
    "            vort_cs[i, j] = fine_data[iter, 1]\n",
    "            iter = iter + 1\n",
    "\n",
    "    vort_fc_per = np.arange((data_size) * (data_size), dtype='double').reshape(data_size, data_size)\n",
    "    vort_cs_per = np.arange((data_size) * (data_size), dtype='double').reshape(data_size, data_size)\n",
    "\n",
    "    for j in range(0, data_size):\n",
    "        for i in range(0, data_size):\n",
    "            vort_fc_per[i, j] = vort_fc[i, j]\n",
    "            vort_cs_per[i, j] = vort_cs[i, j]\n",
    "            \n",
    "    #Normalizing inputs to mean of 0.0 and variance of 1.0\n",
    "    vort_fc_mean = np.mean(vort_fc_per)\n",
    "    vort_fc_std = np.std(vort_fc_per)\n",
    "\n",
    "    vort_fc_per = normalize(vort_fc_per, vort_fc_mean, vort_fc_std)\n",
    "    vort_cs_per = normalize(vort_cs_per, vort_fc_mean, vort_fc_std)\n",
    "\n",
    "\n",
    "    return [vort_fc_per, vort_cs_per]"
   ]
  },
  {
   "cell_type": "code",
   "execution_count": 5,
   "metadata": {},
   "outputs": [],
   "source": [
    "def make_training_data(data_dict, data_size, max_iter):\n",
    "\n",
    "    stencil_matrix = np.zeros((max_iter,9),dtype='double')\n",
    "    source_matrix = np.zeros((max_iter, 1), dtype='double')\n",
    "\n",
    "    global seed_val\n",
    "    np.random.seed(seed_val)\n",
    "\n",
    "    for iter in range(0,max_iter):\n",
    "        i = np.random.randint(1, data_size-1)\n",
    "        j = np.random.randint(1, data_size-1)\n",
    "\n",
    "        sub_iter = 0\n",
    "        #Inputs are \\bar{omega} \n",
    "        stencil_matrix[iter, sub_iter + 0] = data_dict[0][i, j]\n",
    "        stencil_matrix[iter, sub_iter + 1] = data_dict[0][i, j + 1]\n",
    "        stencil_matrix[iter, sub_iter + 2] = data_dict[0][i, j - 1]\n",
    "        stencil_matrix[iter, sub_iter + 3] = data_dict[0][i + 1, j]\n",
    "        stencil_matrix[iter, sub_iter + 4] = data_dict[0][i + 1, j + 1]\n",
    "        stencil_matrix[iter, sub_iter + 5] = data_dict[0][i + 1, j - 1]\n",
    "        stencil_matrix[iter, sub_iter + 6] = data_dict[0][i - 1, j]\n",
    "        stencil_matrix[iter, sub_iter + 7] = data_dict[0][i - 1, j + 1]\n",
    "        stencil_matrix[iter, sub_iter + 8] = data_dict[0][i - 1, j - 1]\n",
    "\n",
    "        #Outputs are \\omega^c\n",
    "        source_matrix[iter, 0] = data_dict[1][i, j]\n",
    "\n",
    "        #You can flip the data_dict[index] for training other map\n",
    "    return [stencil_matrix, source_matrix]"
   ]
  },
  {
   "cell_type": "code",
   "execution_count": 6,
   "metadata": {},
   "outputs": [],
   "source": [
    "data_size = 256\n",
    "#Test data generation\n",
    "seed_val = 1\n",
    "#Large unnormalized databank generated\n",
    "max_iter = 30000#A maximum of 256*256 is possible - choose a number lesser than it for random sampling\n",
    "\n",
    "t_init = 0\n",
    "t_end = 4\n",
    "\n",
    "for time in range(t_init,t_end+1):\n",
    "    filename = r'./DDDKT/Source.' + str(500+time)\n",
    "    data_dict = load_data(filename, data_size)\n",
    "\n",
    "    if time == t_init:\n",
    "        training_dict = make_training_data(data_dict, data_size, max_iter)\n",
    "\n",
    "    else:\n",
    "        training_dict_temp = make_training_data(data_dict, data_size, max_iter)\n",
    "\n",
    "        training_dict[0] = np.concatenate((training_dict[0],training_dict_temp[0]),axis=0)\n",
    "        training_dict[1] = np.concatenate((training_dict[1],training_dict_temp[1]),axis=0)\n"
   ]
  },
  {
   "cell_type": "code",
   "execution_count": 7,
   "metadata": {},
   "outputs": [],
   "source": [
    "import keras.backend as K\n",
    "def coeff_determination(y_true, y_pred):\n",
    "    SS_res =  np.sum(np.square( y_true-y_pred ))\n",
    "    SS_tot = np.sum(np.square( y_true - np.mean(y_true) ) )\n",
    "    return ( 1 - SS_res/(SS_tot + K.epsilon()) )"
   ]
  },
  {
   "cell_type": "code",
   "execution_count": 8,
   "metadata": {},
   "outputs": [],
   "source": [
    "X=training_dict[0]\n",
    "y=training_dict[1]"
   ]
  },
  {
   "cell_type": "code",
   "execution_count": 9,
   "metadata": {},
   "outputs": [],
   "source": [
    "from sklearn.model_selection import train_test_split\n",
    "X_train, X_test, y_train, y_test =  train_test_split(X,y,test_size=0.2,random_state = 0)"
   ]
  },
  {
   "cell_type": "code",
   "execution_count": 10,
   "metadata": {},
   "outputs": [
    {
     "data": {
      "text/plain": [
       "(120000, 9)"
      ]
     },
     "execution_count": 10,
     "metadata": {},
     "output_type": "execute_result"
    }
   ],
   "source": [
    "X_train.shape"
   ]
  },
  {
   "cell_type": "code",
   "execution_count": 22,
   "metadata": {},
   "outputs": [
    {
     "name": "stdout",
     "output_type": "stream",
     "text": [
      "Epoch 1/50\n",
      "120000/120000 [==============================] - 1s 11us/step - loss: 0.2089\n",
      "Epoch 2/50\n",
      "120000/120000 [==============================] - 1s 6us/step - loss: 0.0862\n",
      "Epoch 3/50\n",
      "120000/120000 [==============================] - 1s 6us/step - loss: 0.0740\n",
      "Epoch 4/50\n",
      "120000/120000 [==============================] - 1s 6us/step - loss: 0.0672\n",
      "Epoch 5/50\n",
      "120000/120000 [==============================] - 1s 6us/step - loss: 0.0632\n",
      "Epoch 6/50\n",
      "120000/120000 [==============================] - 1s 6us/step - loss: 0.0607\n",
      "Epoch 7/50\n",
      "120000/120000 [==============================] - 1s 6us/step - loss: 0.0587\n",
      "Epoch 8/50\n",
      "120000/120000 [==============================] - 1s 6us/step - loss: 0.0575\n",
      "Epoch 9/50\n",
      "120000/120000 [==============================] - 1s 6us/step - loss: 0.0566\n",
      "Epoch 10/50\n",
      "120000/120000 [==============================] - 1s 6us/step - loss: 0.0561\n",
      "Epoch 11/50\n",
      "120000/120000 [==============================] - 1s 6us/step - loss: 0.0557\n",
      "Epoch 12/50\n",
      "120000/120000 [==============================] - 1s 6us/step - loss: 0.0551\n",
      "Epoch 13/50\n",
      "120000/120000 [==============================] - 1s 6us/step - loss: 0.0549\n",
      "Epoch 14/50\n",
      "120000/120000 [==============================] - 1s 6us/step - loss: 0.0547\n",
      "Epoch 15/50\n",
      "120000/120000 [==============================] - 1s 6us/step - loss: 0.0545\n",
      "Epoch 16/50\n",
      "120000/120000 [==============================] - 1s 6us/step - loss: 0.0544\n",
      "Epoch 17/50\n",
      "120000/120000 [==============================] - 1s 6us/step - loss: 0.0544\n",
      "Epoch 18/50\n",
      "120000/120000 [==============================] - 1s 6us/step - loss: 0.0543\n",
      "Epoch 19/50\n",
      "120000/120000 [==============================] - 1s 6us/step - loss: 0.0541\n",
      "Epoch 20/50\n",
      "120000/120000 [==============================] - 1s 6us/step - loss: 0.0540\n",
      "Epoch 21/50\n",
      "120000/120000 [==============================] - 1s 6us/step - loss: 0.0539\n",
      "Epoch 22/50\n",
      "120000/120000 [==============================] - 1s 6us/step - loss: 0.0538\n",
      "Epoch 23/50\n",
      "120000/120000 [==============================] - 1s 6us/step - loss: 0.0540\n",
      "Epoch 24/50\n",
      "120000/120000 [==============================] - 1s 6us/step - loss: 0.0536\n",
      "Epoch 25/50\n",
      "120000/120000 [==============================] - 1s 6us/step - loss: 0.0536\n",
      "Epoch 26/50\n",
      "120000/120000 [==============================] - 1s 6us/step - loss: 0.0536\n",
      "Epoch 27/50\n",
      "120000/120000 [==============================] - 1s 6us/step - loss: 0.0536\n",
      "Epoch 28/50\n",
      "120000/120000 [==============================] - 1s 6us/step - loss: 0.0538\n",
      "Epoch 29/50\n",
      "120000/120000 [==============================] - 1s 6us/step - loss: 0.0536\n",
      "Epoch 30/50\n",
      "120000/120000 [==============================] - 1s 6us/step - loss: 0.0534\n",
      "Epoch 31/50\n",
      "120000/120000 [==============================] - 1s 6us/step - loss: 0.0533\n",
      "Epoch 32/50\n",
      "120000/120000 [==============================] - 1s 6us/step - loss: 0.0535\n",
      "Epoch 33/50\n",
      "120000/120000 [==============================] - 1s 6us/step - loss: 0.0533\n",
      "Epoch 34/50\n",
      "120000/120000 [==============================] - 1s 6us/step - loss: 0.0534\n",
      "Epoch 35/50\n",
      "120000/120000 [==============================] - 1s 6us/step - loss: 0.0533\n",
      "Epoch 36/50\n",
      "120000/120000 [==============================] - 1s 6us/step - loss: 0.0532\n",
      "Epoch 37/50\n",
      "120000/120000 [==============================] - 1s 6us/step - loss: 0.0532\n",
      "Epoch 38/50\n",
      "120000/120000 [==============================] - 1s 6us/step - loss: 0.0531\n",
      "Epoch 39/50\n",
      "120000/120000 [==============================] - 1s 6us/step - loss: 0.0532\n",
      "Epoch 40/50\n",
      "120000/120000 [==============================] - 1s 6us/step - loss: 0.0530\n",
      "Epoch 41/50\n",
      "120000/120000 [==============================] - 1s 6us/step - loss: 0.0531\n",
      "Epoch 42/50\n",
      "120000/120000 [==============================] - 1s 6us/step - loss: 0.0529\n",
      "Epoch 43/50\n",
      "120000/120000 [==============================] - 1s 6us/step - loss: 0.0530\n",
      "Epoch 44/50\n",
      "120000/120000 [==============================] - 1s 6us/step - loss: 0.0531\n",
      "Epoch 45/50\n",
      "120000/120000 [==============================] - 1s 6us/step - loss: 0.0528\n",
      "Epoch 46/50\n",
      "120000/120000 [==============================] - 1s 6us/step - loss: 0.0528\n",
      "Epoch 47/50\n",
      "120000/120000 [==============================] - 1s 6us/step - loss: 0.0527\n",
      "Epoch 48/50\n",
      "120000/120000 [==============================] - 1s 6us/step - loss: 0.0527\n",
      "Epoch 49/50\n",
      "120000/120000 [==============================] - 1s 6us/step - loss: 0.0527\n",
      "Epoch 50/50\n",
      "120000/120000 [==============================] - 1s 6us/step - loss: 0.0527\n"
     ]
    },
    {
     "data": {
      "text/plain": [
       "<keras.callbacks.History at 0x25c96282d30>"
      ]
     },
     "execution_count": 22,
     "metadata": {},
     "output_type": "execute_result"
    }
   ],
   "source": [
    "\n",
    "input_layer = Input(shape=(9,))\n",
    "\n",
    "layer_1_output = Dense(9,activation='relu')(input_layer)\n",
    "layer_2_output = Dense(50,activation='relu')(layer_1_output)\n",
    "layer_3_output = Dense(50,activation='relu')(layer_2_output)\n",
    "layer_4_output = Dense(50,activation='relu')(layer_3_output)\n",
    "skipped1 = Concatenate()([layer_2_output,layer_4_output])\n",
    "layer_5_output = Dense(50,activation='relu')(skipped1)\n",
    "layer_6_output = Dense(50,activation='relu')(layer_5_output)\n",
    "layer_7_output = Dense(50,activation='relu')(layer_6_output)\n",
    "skipped2 = Concatenate()([layer_5_output,layer_7_output])\n",
    "X = Dense(1)(skipped2)\n",
    "\n",
    "model = Model(inputs = [input_layer],outputs = [X])\n",
    "model.compile(loss='mean_squared_error', optimizer='adam')\n",
    "\n",
    "model.fit(X_train,y_train,epochs=50,batch_size=1024,verbose=1)"
   ]
  },
  {
   "cell_type": "code",
   "execution_count": 19,
   "metadata": {
    "scrolled": true
   },
   "outputs": [
    {
     "name": "stdout",
     "output_type": "stream",
     "text": [
      "__________________________________________________________________________________________________\n",
      "Layer (type)                    Output Shape         Param #     Connected to                     \n",
      "==================================================================================================\n",
      "input_3 (InputLayer)            (None, 9)            0                                            \n",
      "__________________________________________________________________________________________________\n",
      "dense_11 (Dense)                (None, 9)            90          input_3[0][0]                    \n",
      "__________________________________________________________________________________________________\n",
      "dense_12 (Dense)                (None, 50)           500         dense_11[0][0]                   \n",
      "__________________________________________________________________________________________________\n",
      "dense_13 (Dense)                (None, 50)           2550        dense_12[0][0]                   \n",
      "__________________________________________________________________________________________________\n",
      "dense_14 (Dense)                (None, 50)           2550        dense_13[0][0]                   \n",
      "__________________________________________________________________________________________________\n",
      "concatenate_2 (Concatenate)     (None, 100)          0           dense_12[0][0]                   \n",
      "                                                                 dense_14[0][0]                   \n",
      "__________________________________________________________________________________________________\n",
      "dense_15 (Dense)                (None, 1)            101         concatenate_2[0][0]              \n",
      "==================================================================================================\n",
      "Total params: 5,791\n",
      "Trainable params: 5,791\n",
      "Non-trainable params: 0\n",
      "__________________________________________________________________________________________________\n"
     ]
    }
   ],
   "source": [
    "model.summary()"
   ]
  },
  {
   "cell_type": "code",
   "execution_count": 20,
   "metadata": {
    "scrolled": true
   },
   "outputs": [
    {
     "data": {
      "image/svg+xml": [
       "<svg height=\"483pt\" viewBox=\"0.00 0.00 192.00 483.00\" width=\"192pt\" xmlns=\"http://www.w3.org/2000/svg\" xmlns:xlink=\"http://www.w3.org/1999/xlink\">\n",
       "<g class=\"graph\" id=\"graph0\" transform=\"scale(1 1) rotate(0) translate(4 479)\">\n",
       "<title>G</title>\n",
       "<polygon fill=\"white\" points=\"-4,4 -4,-479 188,-479 188,4 -4,4\" stroke=\"none\"/>\n",
       "<!-- 2596648561632 -->\n",
       "<g class=\"node\" id=\"node1\"><title>2596648561632</title>\n",
       "<polygon fill=\"none\" points=\"34.5,-438.5 34.5,-474.5 160.5,-474.5 160.5,-438.5 34.5,-438.5\" stroke=\"black\"/>\n",
       "<text font-family=\"Times New Roman,serif\" font-size=\"14.00\" text-anchor=\"middle\" x=\"97.5\" y=\"-452.8\">input_3: InputLayer</text>\n",
       "</g>\n",
       "<!-- 2596648561576 -->\n",
       "<g class=\"node\" id=\"node2\"><title>2596648561576</title>\n",
       "<polygon fill=\"none\" points=\"42,-365.5 42,-401.5 153,-401.5 153,-365.5 42,-365.5\" stroke=\"black\"/>\n",
       "<text font-family=\"Times New Roman,serif\" font-size=\"14.00\" text-anchor=\"middle\" x=\"97.5\" y=\"-379.8\">dense_11: Dense</text>\n",
       "</g>\n",
       "<!-- 2596648561632&#45;&gt;2596648561576 -->\n",
       "<g class=\"edge\" id=\"edge1\"><title>2596648561632-&gt;2596648561576</title>\n",
       "<path d=\"M97.5,-438.313C97.5,-430.289 97.5,-420.547 97.5,-411.569\" fill=\"none\" stroke=\"black\"/>\n",
       "<polygon fill=\"black\" points=\"101,-411.529 97.5,-401.529 94.0001,-411.529 101,-411.529\" stroke=\"black\"/>\n",
       "</g>\n",
       "<!-- 2596646627200 -->\n",
       "<g class=\"node\" id=\"node3\"><title>2596646627200</title>\n",
       "<polygon fill=\"none\" points=\"42,-292.5 42,-328.5 153,-328.5 153,-292.5 42,-292.5\" stroke=\"black\"/>\n",
       "<text font-family=\"Times New Roman,serif\" font-size=\"14.00\" text-anchor=\"middle\" x=\"97.5\" y=\"-306.8\">dense_12: Dense</text>\n",
       "</g>\n",
       "<!-- 2596648561576&#45;&gt;2596646627200 -->\n",
       "<g class=\"edge\" id=\"edge2\"><title>2596648561576-&gt;2596646627200</title>\n",
       "<path d=\"M97.5,-365.313C97.5,-357.289 97.5,-347.547 97.5,-338.569\" fill=\"none\" stroke=\"black\"/>\n",
       "<polygon fill=\"black\" points=\"101,-338.529 97.5,-328.529 94.0001,-338.529 101,-338.529\" stroke=\"black\"/>\n",
       "</g>\n",
       "<!-- 2596648579872 -->\n",
       "<g class=\"node\" id=\"node4\"><title>2596648579872</title>\n",
       "<polygon fill=\"none\" points=\"0,-219.5 0,-255.5 111,-255.5 111,-219.5 0,-219.5\" stroke=\"black\"/>\n",
       "<text font-family=\"Times New Roman,serif\" font-size=\"14.00\" text-anchor=\"middle\" x=\"55.5\" y=\"-233.8\">dense_13: Dense</text>\n",
       "</g>\n",
       "<!-- 2596646627200&#45;&gt;2596648579872 -->\n",
       "<g class=\"edge\" id=\"edge3\"><title>2596646627200-&gt;2596648579872</title>\n",
       "<path d=\"M87.333,-292.313C82.3804,-283.941 76.3208,-273.697 70.8227,-264.403\" fill=\"none\" stroke=\"black\"/>\n",
       "<polygon fill=\"black\" points=\"73.6772,-262.354 65.5734,-255.529 67.6524,-265.918 73.6772,-262.354\" stroke=\"black\"/>\n",
       "</g>\n",
       "<!-- 2596646541296 -->\n",
       "<g class=\"node\" id=\"node6\"><title>2596646541296</title>\n",
       "<polygon fill=\"none\" points=\"11,-73.5 11,-109.5 184,-109.5 184,-73.5 11,-73.5\" stroke=\"black\"/>\n",
       "<text font-family=\"Times New Roman,serif\" font-size=\"14.00\" text-anchor=\"middle\" x=\"97.5\" y=\"-87.8\">concatenate_2: Concatenate</text>\n",
       "</g>\n",
       "<!-- 2596646627200&#45;&gt;2596646541296 -->\n",
       "<g class=\"edge\" id=\"edge5\"><title>2596646627200-&gt;2596646541296</title>\n",
       "<path d=\"M106.631,-292.208C111.508,-281.986 117.008,-268.611 119.5,-256 128.976,-208.038 128.976,-193.962 119.5,-146 117.709,-136.936 114.364,-127.477 110.813,-119.078\" fill=\"none\" stroke=\"black\"/>\n",
       "<polygon fill=\"black\" points=\"113.929,-117.472 106.631,-109.792 107.546,-120.347 113.929,-117.472\" stroke=\"black\"/>\n",
       "</g>\n",
       "<!-- 2596648582112 -->\n",
       "<g class=\"node\" id=\"node5\"><title>2596648582112</title>\n",
       "<polygon fill=\"none\" points=\"0,-146.5 0,-182.5 111,-182.5 111,-146.5 0,-146.5\" stroke=\"black\"/>\n",
       "<text font-family=\"Times New Roman,serif\" font-size=\"14.00\" text-anchor=\"middle\" x=\"55.5\" y=\"-160.8\">dense_14: Dense</text>\n",
       "</g>\n",
       "<!-- 2596648579872&#45;&gt;2596648582112 -->\n",
       "<g class=\"edge\" id=\"edge4\"><title>2596648579872-&gt;2596648582112</title>\n",
       "<path d=\"M55.5,-219.313C55.5,-211.289 55.5,-201.547 55.5,-192.569\" fill=\"none\" stroke=\"black\"/>\n",
       "<polygon fill=\"black\" points=\"59.0001,-192.529 55.5,-182.529 52.0001,-192.529 59.0001,-192.529\" stroke=\"black\"/>\n",
       "</g>\n",
       "<!-- 2596648582112&#45;&gt;2596646541296 -->\n",
       "<g class=\"edge\" id=\"edge6\"><title>2596648582112-&gt;2596646541296</title>\n",
       "<path d=\"M65.667,-146.313C70.6196,-137.941 76.6792,-127.697 82.1773,-118.403\" fill=\"none\" stroke=\"black\"/>\n",
       "<polygon fill=\"black\" points=\"85.3476,-119.918 87.4266,-109.529 79.3228,-116.354 85.3476,-119.918\" stroke=\"black\"/>\n",
       "</g>\n",
       "<!-- 2596646533776 -->\n",
       "<g class=\"node\" id=\"node7\"><title>2596646533776</title>\n",
       "<polygon fill=\"none\" points=\"42,-0.5 42,-36.5 153,-36.5 153,-0.5 42,-0.5\" stroke=\"black\"/>\n",
       "<text font-family=\"Times New Roman,serif\" font-size=\"14.00\" text-anchor=\"middle\" x=\"97.5\" y=\"-14.8\">dense_15: Dense</text>\n",
       "</g>\n",
       "<!-- 2596646541296&#45;&gt;2596646533776 -->\n",
       "<g class=\"edge\" id=\"edge7\"><title>2596646541296-&gt;2596646533776</title>\n",
       "<path d=\"M97.5,-73.3129C97.5,-65.2895 97.5,-55.5475 97.5,-46.5691\" fill=\"none\" stroke=\"black\"/>\n",
       "<polygon fill=\"black\" points=\"101,-46.5288 97.5,-36.5288 94.0001,-46.5289 101,-46.5288\" stroke=\"black\"/>\n",
       "</g>\n",
       "</g>\n",
       "</svg>"
      ],
      "text/plain": [
       "<IPython.core.display.SVG object>"
      ]
     },
     "execution_count": 20,
     "metadata": {},
     "output_type": "execute_result"
    }
   ],
   "source": [
    "os.environ[\"PATH\"] += os.pathsep + 'C:/Program Files (x86)/Graphviz2.38/bin/'\n",
    "plot_model(model, to_file='model.png')\n",
    "SVG(model_to_dot(model).create(prog='dot', format='svg'))"
   ]
  },
  {
   "cell_type": "code",
   "execution_count": null,
   "metadata": {},
   "outputs": [],
   "source": []
  },
  {
   "cell_type": "code",
   "execution_count": null,
   "metadata": {},
   "outputs": [],
   "source": []
  }
 ],
 "metadata": {
  "kernelspec": {
   "display_name": "Python 3",
   "language": "python",
   "name": "python3"
  },
  "language_info": {
   "codemirror_mode": {
    "name": "ipython",
    "version": 3
   },
   "file_extension": ".py",
   "mimetype": "text/x-python",
   "name": "python",
   "nbconvert_exporter": "python",
   "pygments_lexer": "ipython3",
   "version": "3.6.4"
  }
 },
 "nbformat": 4,
 "nbformat_minor": 2
}
