{
 "cells": [
  {
   "cell_type": "code",
   "execution_count": 1,
   "metadata": {},
   "outputs": [
    {
     "data": {
      "application/javascript": [
       "IPython.OutputArea.prototype._should_scroll = function(lines) {\n",
       "    return false;\n",
       "}"
      ],
      "text/plain": [
       "<IPython.core.display.Javascript object>"
      ]
     },
     "metadata": {},
     "output_type": "display_data"
    }
   ],
   "source": [
    "%%javascript\n",
    "IPython.OutputArea.prototype._should_scroll = function(lines) {\n",
    "    return false;\n",
    "}"
   ]
  },
  {
   "cell_type": "code",
   "execution_count": 14,
   "metadata": {},
   "outputs": [],
   "source": [
    "import numpy as np\n",
    "import matplotlib.pyplot as plt\n",
    "from sklearn.metrics import mean_squared_error\n",
    "%matplotlib inline\n",
    "# Make a neural network architecture\n",
    "import keras\n",
    "from keras.layers import Dense, Input, Concatenate\n",
    "from keras.models import Model\n",
    "from keras.utils import plot_model\n",
    "from IPython.display import SVG\n",
    "from keras.utils.vis_utils import model_to_dot\n",
    "import os\n",
    "import warnings\n",
    "warnings.filterwarnings('ignore')"
   ]
  },
  {
   "cell_type": "code",
   "execution_count": 3,
   "metadata": {},
   "outputs": [],
   "source": [
    "def normalize(u,mean,std):\n",
    "    unorm = (u - mean) / std  # Mean of 0.0 and variance of 1.0\n",
    "    return unorm"
   ]
  },
  {
   "cell_type": "code",
   "execution_count": 4,
   "metadata": {},
   "outputs": [],
   "source": [
    "def load_data(filename,data_size):\n",
    "    #Loading data from Tecplot file (check number of skiprows) - no tecplot header\n",
    "    fine_data = np.loadtxt(filename)\n",
    "\n",
    "    # Store in numpy array\n",
    "    vort_fc= np.arange((data_size + 1)* (data_size + 1), dtype='double').reshape(data_size + 1, data_size + 1)\n",
    "    vort_cs = np.arange((data_size + 1) * (data_size + 1), dtype='double').reshape(data_size + 1, data_size + 1)\n",
    "\n",
    "    iter = 0\n",
    "    for j in range(0, data_size + 1):\n",
    "        for i in range(0, data_size + 1):\n",
    "            vort_fc[i, j] = fine_data[iter, 0]\n",
    "            vort_cs[i, j] = fine_data[iter, 1]\n",
    "            iter = iter + 1\n",
    "\n",
    "    vort_fc_per = np.arange((data_size) * (data_size), dtype='double').reshape(data_size, data_size)\n",
    "    vort_cs_per = np.arange((data_size) * (data_size), dtype='double').reshape(data_size, data_size)\n",
    "\n",
    "    for j in range(0, data_size):\n",
    "        for i in range(0, data_size):\n",
    "            vort_fc_per[i, j] = vort_fc[i, j]\n",
    "            vort_cs_per[i, j] = vort_cs[i, j]\n",
    "            \n",
    "    #Normalizing inputs to mean of 0.0 and variance of 1.0\n",
    "    vort_fc_mean = np.mean(vort_fc_per)\n",
    "    vort_fc_std = np.std(vort_fc_per)\n",
    "\n",
    "    vort_fc_per = normalize(vort_fc_per, vort_fc_mean, vort_fc_std)\n",
    "    vort_cs_per = normalize(vort_cs_per, vort_fc_mean, vort_fc_std)\n",
    "\n",
    "\n",
    "    return [vort_fc_per, vort_cs_per]"
   ]
  },
  {
   "cell_type": "code",
   "execution_count": 5,
   "metadata": {},
   "outputs": [],
   "source": [
    "def make_training_data(data_dict, data_size, max_iter):\n",
    "\n",
    "    stencil_matrix = np.zeros((max_iter,9),dtype='double')\n",
    "    source_matrix = np.zeros((max_iter, 1), dtype='double')\n",
    "\n",
    "    global seed_val\n",
    "    np.random.seed(seed_val)\n",
    "\n",
    "    for iter in range(0,max_iter):\n",
    "        i = np.random.randint(1, data_size-1)\n",
    "        j = np.random.randint(1, data_size-1)\n",
    "\n",
    "        sub_iter = 0\n",
    "        #Inputs are \\bar{omega} \n",
    "        stencil_matrix[iter, sub_iter + 0] = data_dict[0][i, j]\n",
    "        stencil_matrix[iter, sub_iter + 1] = data_dict[0][i, j + 1]\n",
    "        stencil_matrix[iter, sub_iter + 2] = data_dict[0][i, j - 1]\n",
    "        stencil_matrix[iter, sub_iter + 3] = data_dict[0][i + 1, j]\n",
    "        stencil_matrix[iter, sub_iter + 4] = data_dict[0][i + 1, j + 1]\n",
    "        stencil_matrix[iter, sub_iter + 5] = data_dict[0][i + 1, j - 1]\n",
    "        stencil_matrix[iter, sub_iter + 6] = data_dict[0][i - 1, j]\n",
    "        stencil_matrix[iter, sub_iter + 7] = data_dict[0][i - 1, j + 1]\n",
    "        stencil_matrix[iter, sub_iter + 8] = data_dict[0][i - 1, j - 1]\n",
    "\n",
    "        #Outputs are \\omega^c\n",
    "        source_matrix[iter, 0] = data_dict[1][i, j]\n",
    "\n",
    "        #You can flip the data_dict[index] for training other map\n",
    "    return [stencil_matrix, source_matrix]"
   ]
  },
  {
   "cell_type": "code",
   "execution_count": 6,
   "metadata": {},
   "outputs": [],
   "source": [
    "data_size = 256\n",
    "#Test data generation\n",
    "seed_val = 1\n",
    "#Large unnormalized databank generated\n",
    "max_iter = 30000#A maximum of 256*256 is possible - choose a number lesser than it for random sampling\n",
    "\n",
    "t_init = 0\n",
    "t_end = 4\n",
    "\n",
    "for time in range(t_init,t_end+1):\n",
    "    filename = r'./DDDKT/Source.' + str(500+time)\n",
    "    data_dict = load_data(filename, data_size)\n",
    "\n",
    "    if time == t_init:\n",
    "        training_dict = make_training_data(data_dict, data_size, max_iter)\n",
    "\n",
    "    else:\n",
    "        training_dict_temp = make_training_data(data_dict, data_size, max_iter)\n",
    "\n",
    "        training_dict[0] = np.concatenate((training_dict[0],training_dict_temp[0]),axis=0)\n",
    "        training_dict[1] = np.concatenate((training_dict[1],training_dict_temp[1]),axis=0)\n"
   ]
  },
  {
   "cell_type": "code",
   "execution_count": 7,
   "metadata": {},
   "outputs": [],
   "source": [
    "import keras.backend as K\n",
    "def coeff_determination(y_true, y_pred):\n",
    "    SS_res =  np.sum(np.square( y_true-y_pred ))\n",
    "    SS_tot = np.sum(np.square( y_true - np.mean(y_true) ) )\n",
    "    return ( 1 - SS_res/(SS_tot + K.epsilon()) )"
   ]
  },
  {
   "cell_type": "code",
   "execution_count": 8,
   "metadata": {},
   "outputs": [],
   "source": [
    "X=training_dict[0]\n",
    "y=training_dict[1]"
   ]
  },
  {
   "cell_type": "code",
   "execution_count": 9,
   "metadata": {},
   "outputs": [],
   "source": [
    "from sklearn.model_selection import train_test_split\n",
    "X_train, X_test, y_train, y_test =  train_test_split(X,y,test_size=0.2,random_state = 0)"
   ]
  },
  {
   "cell_type": "code",
   "execution_count": 10,
   "metadata": {},
   "outputs": [
    {
     "data": {
      "text/plain": [
       "(120000, 9)"
      ]
     },
     "execution_count": 10,
     "metadata": {},
     "output_type": "execute_result"
    }
   ],
   "source": [
    "X_train.shape"
   ]
  },
  {
   "cell_type": "code",
   "execution_count": 22,
   "metadata": {},
   "outputs": [
    {
     "name": "stdout",
     "output_type": "stream",
     "text": [
      "Epoch 1/50\n",
      "120000/120000 [==============================] - 1s 11us/step - loss: 0.2089\n",
      "Epoch 2/50\n",
      "120000/120000 [==============================] - 1s 6us/step - loss: 0.0862\n",
      "Epoch 3/50\n",
      "120000/120000 [==============================] - 1s 6us/step - loss: 0.0740\n",
      "Epoch 4/50\n",
      "120000/120000 [==============================] - 1s 6us/step - loss: 0.0672\n",
      "Epoch 5/50\n",
      "120000/120000 [==============================] - 1s 6us/step - loss: 0.0632\n",
      "Epoch 6/50\n",
      "120000/120000 [==============================] - 1s 6us/step - loss: 0.0607\n",
      "Epoch 7/50\n",
      "120000/120000 [==============================] - 1s 6us/step - loss: 0.0587\n",
      "Epoch 8/50\n",
      "120000/120000 [==============================] - 1s 6us/step - loss: 0.0575\n",
      "Epoch 9/50\n",
      "120000/120000 [==============================] - 1s 6us/step - loss: 0.0566\n",
      "Epoch 10/50\n",
      "120000/120000 [==============================] - 1s 6us/step - loss: 0.0561\n",
      "Epoch 11/50\n",
      "120000/120000 [==============================] - 1s 6us/step - loss: 0.0557\n",
      "Epoch 12/50\n",
      "120000/120000 [==============================] - 1s 6us/step - loss: 0.0551\n",
      "Epoch 13/50\n",
      "120000/120000 [==============================] - 1s 6us/step - loss: 0.0549\n",
      "Epoch 14/50\n",
      "120000/120000 [==============================] - 1s 6us/step - loss: 0.0547\n",
      "Epoch 15/50\n",
      "120000/120000 [==============================] - 1s 6us/step - loss: 0.0545\n",
      "Epoch 16/50\n",
      "120000/120000 [==============================] - 1s 6us/step - loss: 0.0544\n",
      "Epoch 17/50\n",
      "120000/120000 [==============================] - 1s 6us/step - loss: 0.0544\n",
      "Epoch 18/50\n",
      "120000/120000 [==============================] - 1s 6us/step - loss: 0.0543\n",
      "Epoch 19/50\n",
      "120000/120000 [==============================] - 1s 6us/step - loss: 0.0541\n",
      "Epoch 20/50\n",
      "120000/120000 [==============================] - 1s 6us/step - loss: 0.0540\n",
      "Epoch 21/50\n",
      "120000/120000 [==============================] - 1s 6us/step - loss: 0.0539\n",
      "Epoch 22/50\n",
      "120000/120000 [==============================] - 1s 6us/step - loss: 0.0538\n",
      "Epoch 23/50\n",
      "120000/120000 [==============================] - 1s 6us/step - loss: 0.0540\n",
      "Epoch 24/50\n",
      "120000/120000 [==============================] - 1s 6us/step - loss: 0.0536\n",
      "Epoch 25/50\n",
      "120000/120000 [==============================] - 1s 6us/step - loss: 0.0536\n",
      "Epoch 26/50\n",
      "120000/120000 [==============================] - 1s 6us/step - loss: 0.0536\n",
      "Epoch 27/50\n",
      "120000/120000 [==============================] - 1s 6us/step - loss: 0.0536\n",
      "Epoch 28/50\n",
      "120000/120000 [==============================] - 1s 6us/step - loss: 0.0538\n",
      "Epoch 29/50\n",
      "120000/120000 [==============================] - 1s 6us/step - loss: 0.0536\n",
      "Epoch 30/50\n",
      "120000/120000 [==============================] - 1s 6us/step - loss: 0.0534\n",
      "Epoch 31/50\n",
      "120000/120000 [==============================] - 1s 6us/step - loss: 0.0533\n",
      "Epoch 32/50\n",
      "120000/120000 [==============================] - 1s 6us/step - loss: 0.0535\n",
      "Epoch 33/50\n",
      "120000/120000 [==============================] - 1s 6us/step - loss: 0.0533\n",
      "Epoch 34/50\n",
      "120000/120000 [==============================] - 1s 6us/step - loss: 0.0534\n",
      "Epoch 35/50\n",
      "120000/120000 [==============================] - 1s 6us/step - loss: 0.0533\n",
      "Epoch 36/50\n",
      "120000/120000 [==============================] - 1s 6us/step - loss: 0.0532\n",
      "Epoch 37/50\n",
      "120000/120000 [==============================] - 1s 6us/step - loss: 0.0532\n",
      "Epoch 38/50\n",
      "120000/120000 [==============================] - 1s 6us/step - loss: 0.0531\n",
      "Epoch 39/50\n",
      "120000/120000 [==============================] - 1s 6us/step - loss: 0.0532\n",
      "Epoch 40/50\n",
      "120000/120000 [==============================] - 1s 6us/step - loss: 0.0530\n",
      "Epoch 41/50\n",
      "120000/120000 [==============================] - 1s 6us/step - loss: 0.0531\n",
      "Epoch 42/50\n",
      "120000/120000 [==============================] - 1s 6us/step - loss: 0.0529\n",
      "Epoch 43/50\n",
      "120000/120000 [==============================] - 1s 6us/step - loss: 0.0530\n",
      "Epoch 44/50\n",
      "120000/120000 [==============================] - 1s 6us/step - loss: 0.0531\n",
      "Epoch 45/50\n",
      "120000/120000 [==============================] - 1s 6us/step - loss: 0.0528\n",
      "Epoch 46/50\n",
      "120000/120000 [==============================] - 1s 6us/step - loss: 0.0528\n",
      "Epoch 47/50\n",
      "120000/120000 [==============================] - 1s 6us/step - loss: 0.0527\n",
      "Epoch 48/50\n",
      "120000/120000 [==============================] - 1s 6us/step - loss: 0.0527\n",
      "Epoch 49/50\n",
      "120000/120000 [==============================] - 1s 6us/step - loss: 0.0527\n",
      "Epoch 50/50\n",
      "120000/120000 [==============================] - 1s 6us/step - loss: 0.0527\n"
     ]
    },
    {
     "data": {
      "text/plain": [
       "<keras.callbacks.History at 0x25c96282d30>"
      ]
     },
     "execution_count": 22,
     "metadata": {},
     "output_type": "execute_result"
    }
   ],
   "source": [
    "\n",
    "input_layer = Input(shape=(9,))\n",
    "\n",
    "layer_1_output = Dense(9,activation='relu')(input_layer)\n",
    "layer_2_output = Dense(50,activation='relu')(layer_1_output)\n",
    "layer_3_output = Dense(50,activation='relu')(layer_2_output)\n",
    "layer_4_output = Dense(50,activation='relu')(layer_3_output)\n",
    "skipped1 = Concatenate()([layer_2_output,layer_4_output])\n",
    "layer_5_output = Dense(50,activation='relu')(skipped1)\n",
    "layer_6_output = Dense(50,activation='relu')(layer_5_output)\n",
    "layer_7_output = Dense(50,activation='relu')(layer_6_output)\n",
    "skipped2 = Concatenate()([layer_5_output,layer_7_output])\n",
    "X = Dense(1)(skipped2)\n",
    "\n",
    "model = Model(inputs = [input_layer],outputs = [X])\n",
    "model.compile(loss='mean_squared_error', optimizer='adam')\n",
    "\n",
    "model.fit(X_train,y_train,epochs=50,batch_size=1024,verbose=1)"
   ]
  },
  {
   "cell_type": "code",
   "execution_count": 23,
   "metadata": {
    "scrolled": true
   },
   "outputs": [
    {
     "name": "stdout",
     "output_type": "stream",
     "text": [
      "__________________________________________________________________________________________________\n",
      "Layer (type)                    Output Shape         Param #     Connected to                     \n",
      "==================================================================================================\n",
      "input_5 (InputLayer)            (None, 9)            0                                            \n",
      "__________________________________________________________________________________________________\n",
      "dense_21 (Dense)                (None, 9)            90          input_5[0][0]                    \n",
      "__________________________________________________________________________________________________\n",
      "dense_22 (Dense)                (None, 50)           500         dense_21[0][0]                   \n",
      "__________________________________________________________________________________________________\n",
      "dense_23 (Dense)                (None, 50)           2550        dense_22[0][0]                   \n",
      "__________________________________________________________________________________________________\n",
      "dense_24 (Dense)                (None, 50)           2550        dense_23[0][0]                   \n",
      "__________________________________________________________________________________________________\n",
      "concatenate_4 (Concatenate)     (None, 100)          0           dense_22[0][0]                   \n",
      "                                                                 dense_24[0][0]                   \n",
      "__________________________________________________________________________________________________\n",
      "dense_25 (Dense)                (None, 50)           5050        concatenate_4[0][0]              \n",
      "__________________________________________________________________________________________________\n",
      "dense_26 (Dense)                (None, 50)           2550        dense_25[0][0]                   \n",
      "__________________________________________________________________________________________________\n",
      "dense_27 (Dense)                (None, 50)           2550        dense_26[0][0]                   \n",
      "__________________________________________________________________________________________________\n",
      "concatenate_5 (Concatenate)     (None, 100)          0           dense_25[0][0]                   \n",
      "                                                                 dense_27[0][0]                   \n",
      "__________________________________________________________________________________________________\n",
      "dense_28 (Dense)                (None, 1)            101         concatenate_5[0][0]              \n",
      "==================================================================================================\n",
      "Total params: 15,941\n",
      "Trainable params: 15,941\n",
      "Non-trainable params: 0\n",
      "__________________________________________________________________________________________________\n"
     ]
    }
   ],
   "source": [
    "model.summary()"
   ]
  },
  {
   "cell_type": "code",
   "execution_count": 24,
   "metadata": {
    "scrolled": true
   },
   "outputs": [
    {
     "data": {
      "image/svg+xml": [
       "<svg height=\"775pt\" viewBox=\"0.00 0.00 192.00 775.00\" width=\"192pt\" xmlns=\"http://www.w3.org/2000/svg\" xmlns:xlink=\"http://www.w3.org/1999/xlink\">\n",
       "<g class=\"graph\" id=\"graph0\" transform=\"scale(1 1) rotate(0) translate(4 771)\">\n",
       "<title>G</title>\n",
       "<polygon fill=\"white\" points=\"-4,4 -4,-771 188,-771 188,4 -4,4\" stroke=\"none\"/>\n",
       "<!-- 2596682450368 -->\n",
       "<g class=\"node\" id=\"node1\"><title>2596682450368</title>\n",
       "<polygon fill=\"none\" points=\"34.5,-730.5 34.5,-766.5 160.5,-766.5 160.5,-730.5 34.5,-730.5\" stroke=\"black\"/>\n",
       "<text font-family=\"Times New Roman,serif\" font-size=\"14.00\" text-anchor=\"middle\" x=\"97.5\" y=\"-744.8\">input_5: InputLayer</text>\n",
       "</g>\n",
       "<!-- 2596682427080 -->\n",
       "<g class=\"node\" id=\"node2\"><title>2596682427080</title>\n",
       "<polygon fill=\"none\" points=\"42,-657.5 42,-693.5 153,-693.5 153,-657.5 42,-657.5\" stroke=\"black\"/>\n",
       "<text font-family=\"Times New Roman,serif\" font-size=\"14.00\" text-anchor=\"middle\" x=\"97.5\" y=\"-671.8\">dense_21: Dense</text>\n",
       "</g>\n",
       "<!-- 2596682450368&#45;&gt;2596682427080 -->\n",
       "<g class=\"edge\" id=\"edge1\"><title>2596682450368-&gt;2596682427080</title>\n",
       "<path d=\"M97.5,-730.313C97.5,-722.289 97.5,-712.547 97.5,-703.569\" fill=\"none\" stroke=\"black\"/>\n",
       "<polygon fill=\"black\" points=\"101,-703.529 97.5,-693.529 94.0001,-703.529 101,-703.529\" stroke=\"black\"/>\n",
       "</g>\n",
       "<!-- 2596682449640 -->\n",
       "<g class=\"node\" id=\"node3\"><title>2596682449640</title>\n",
       "<polygon fill=\"none\" points=\"42,-584.5 42,-620.5 153,-620.5 153,-584.5 42,-584.5\" stroke=\"black\"/>\n",
       "<text font-family=\"Times New Roman,serif\" font-size=\"14.00\" text-anchor=\"middle\" x=\"97.5\" y=\"-598.8\">dense_22: Dense</text>\n",
       "</g>\n",
       "<!-- 2596682427080&#45;&gt;2596682449640 -->\n",
       "<g class=\"edge\" id=\"edge2\"><title>2596682427080-&gt;2596682449640</title>\n",
       "<path d=\"M97.5,-657.313C97.5,-649.289 97.5,-639.547 97.5,-630.569\" fill=\"none\" stroke=\"black\"/>\n",
       "<polygon fill=\"black\" points=\"101,-630.529 97.5,-620.529 94.0001,-630.529 101,-630.529\" stroke=\"black\"/>\n",
       "</g>\n",
       "<!-- 2596682449136 -->\n",
       "<g class=\"node\" id=\"node4\"><title>2596682449136</title>\n",
       "<polygon fill=\"none\" points=\"0,-511.5 0,-547.5 111,-547.5 111,-511.5 0,-511.5\" stroke=\"black\"/>\n",
       "<text font-family=\"Times New Roman,serif\" font-size=\"14.00\" text-anchor=\"middle\" x=\"55.5\" y=\"-525.8\">dense_23: Dense</text>\n",
       "</g>\n",
       "<!-- 2596682449640&#45;&gt;2596682449136 -->\n",
       "<g class=\"edge\" id=\"edge3\"><title>2596682449640-&gt;2596682449136</title>\n",
       "<path d=\"M87.333,-584.313C82.3804,-575.941 76.3208,-565.697 70.8227,-556.403\" fill=\"none\" stroke=\"black\"/>\n",
       "<polygon fill=\"black\" points=\"73.6772,-554.354 65.5734,-547.529 67.6524,-557.918 73.6772,-554.354\" stroke=\"black\"/>\n",
       "</g>\n",
       "<!-- 2596682631880 -->\n",
       "<g class=\"node\" id=\"node6\"><title>2596682631880</title>\n",
       "<polygon fill=\"none\" points=\"11,-365.5 11,-401.5 184,-401.5 184,-365.5 11,-365.5\" stroke=\"black\"/>\n",
       "<text font-family=\"Times New Roman,serif\" font-size=\"14.00\" text-anchor=\"middle\" x=\"97.5\" y=\"-379.8\">concatenate_4: Concatenate</text>\n",
       "</g>\n",
       "<!-- 2596682449640&#45;&gt;2596682631880 -->\n",
       "<g class=\"edge\" id=\"edge5\"><title>2596682449640-&gt;2596682631880</title>\n",
       "<path d=\"M106.631,-584.208C111.508,-573.986 117.008,-560.611 119.5,-548 128.976,-500.038 128.976,-485.962 119.5,-438 117.709,-428.936 114.364,-419.477 110.813,-411.078\" fill=\"none\" stroke=\"black\"/>\n",
       "<polygon fill=\"black\" points=\"113.929,-409.472 106.631,-401.792 107.546,-412.347 113.929,-409.472\" stroke=\"black\"/>\n",
       "</g>\n",
       "<!-- 2596682426688 -->\n",
       "<g class=\"node\" id=\"node5\"><title>2596682426688</title>\n",
       "<polygon fill=\"none\" points=\"0,-438.5 0,-474.5 111,-474.5 111,-438.5 0,-438.5\" stroke=\"black\"/>\n",
       "<text font-family=\"Times New Roman,serif\" font-size=\"14.00\" text-anchor=\"middle\" x=\"55.5\" y=\"-452.8\">dense_24: Dense</text>\n",
       "</g>\n",
       "<!-- 2596682449136&#45;&gt;2596682426688 -->\n",
       "<g class=\"edge\" id=\"edge4\"><title>2596682449136-&gt;2596682426688</title>\n",
       "<path d=\"M55.5,-511.313C55.5,-503.289 55.5,-493.547 55.5,-484.569\" fill=\"none\" stroke=\"black\"/>\n",
       "<polygon fill=\"black\" points=\"59.0001,-484.529 55.5,-474.529 52.0001,-484.529 59.0001,-484.529\" stroke=\"black\"/>\n",
       "</g>\n",
       "<!-- 2596682426688&#45;&gt;2596682631880 -->\n",
       "<g class=\"edge\" id=\"edge6\"><title>2596682426688-&gt;2596682631880</title>\n",
       "<path d=\"M65.667,-438.313C70.6196,-429.941 76.6792,-419.697 82.1773,-410.403\" fill=\"none\" stroke=\"black\"/>\n",
       "<polygon fill=\"black\" points=\"85.3476,-411.918 87.4266,-401.529 79.3228,-408.354 85.3476,-411.918\" stroke=\"black\"/>\n",
       "</g>\n",
       "<!-- 2596682165328 -->\n",
       "<g class=\"node\" id=\"node7\"><title>2596682165328</title>\n",
       "<polygon fill=\"none\" points=\"42,-292.5 42,-328.5 153,-328.5 153,-292.5 42,-292.5\" stroke=\"black\"/>\n",
       "<text font-family=\"Times New Roman,serif\" font-size=\"14.00\" text-anchor=\"middle\" x=\"97.5\" y=\"-306.8\">dense_25: Dense</text>\n",
       "</g>\n",
       "<!-- 2596682631880&#45;&gt;2596682165328 -->\n",
       "<g class=\"edge\" id=\"edge7\"><title>2596682631880-&gt;2596682165328</title>\n",
       "<path d=\"M97.5,-365.313C97.5,-357.289 97.5,-347.547 97.5,-338.569\" fill=\"none\" stroke=\"black\"/>\n",
       "<polygon fill=\"black\" points=\"101,-338.529 97.5,-328.529 94.0001,-338.529 101,-338.529\" stroke=\"black\"/>\n",
       "</g>\n",
       "<!-- 2596682236872 -->\n",
       "<g class=\"node\" id=\"node8\"><title>2596682236872</title>\n",
       "<polygon fill=\"none\" points=\"0,-219.5 0,-255.5 111,-255.5 111,-219.5 0,-219.5\" stroke=\"black\"/>\n",
       "<text font-family=\"Times New Roman,serif\" font-size=\"14.00\" text-anchor=\"middle\" x=\"55.5\" y=\"-233.8\">dense_26: Dense</text>\n",
       "</g>\n",
       "<!-- 2596682165328&#45;&gt;2596682236872 -->\n",
       "<g class=\"edge\" id=\"edge8\"><title>2596682165328-&gt;2596682236872</title>\n",
       "<path d=\"M87.333,-292.313C82.3804,-283.941 76.3208,-273.697 70.8227,-264.403\" fill=\"none\" stroke=\"black\"/>\n",
       "<polygon fill=\"black\" points=\"73.6772,-262.354 65.5734,-255.529 67.6524,-265.918 73.6772,-262.354\" stroke=\"black\"/>\n",
       "</g>\n",
       "<!-- 2596679462864 -->\n",
       "<g class=\"node\" id=\"node10\"><title>2596679462864</title>\n",
       "<polygon fill=\"none\" points=\"11,-73.5 11,-109.5 184,-109.5 184,-73.5 11,-73.5\" stroke=\"black\"/>\n",
       "<text font-family=\"Times New Roman,serif\" font-size=\"14.00\" text-anchor=\"middle\" x=\"97.5\" y=\"-87.8\">concatenate_5: Concatenate</text>\n",
       "</g>\n",
       "<!-- 2596682165328&#45;&gt;2596679462864 -->\n",
       "<g class=\"edge\" id=\"edge10\"><title>2596682165328-&gt;2596679462864</title>\n",
       "<path d=\"M106.631,-292.208C111.508,-281.986 117.008,-268.611 119.5,-256 128.976,-208.038 128.976,-193.962 119.5,-146 117.709,-136.936 114.364,-127.477 110.813,-119.078\" fill=\"none\" stroke=\"black\"/>\n",
       "<polygon fill=\"black\" points=\"113.929,-117.472 106.631,-109.792 107.546,-120.347 113.929,-117.472\" stroke=\"black\"/>\n",
       "</g>\n",
       "<!-- 2596679260592 -->\n",
       "<g class=\"node\" id=\"node9\"><title>2596679260592</title>\n",
       "<polygon fill=\"none\" points=\"0,-146.5 0,-182.5 111,-182.5 111,-146.5 0,-146.5\" stroke=\"black\"/>\n",
       "<text font-family=\"Times New Roman,serif\" font-size=\"14.00\" text-anchor=\"middle\" x=\"55.5\" y=\"-160.8\">dense_27: Dense</text>\n",
       "</g>\n",
       "<!-- 2596682236872&#45;&gt;2596679260592 -->\n",
       "<g class=\"edge\" id=\"edge9\"><title>2596682236872-&gt;2596679260592</title>\n",
       "<path d=\"M55.5,-219.313C55.5,-211.289 55.5,-201.547 55.5,-192.569\" fill=\"none\" stroke=\"black\"/>\n",
       "<polygon fill=\"black\" points=\"59.0001,-192.529 55.5,-182.529 52.0001,-192.529 59.0001,-192.529\" stroke=\"black\"/>\n",
       "</g>\n",
       "<!-- 2596679260592&#45;&gt;2596679462864 -->\n",
       "<g class=\"edge\" id=\"edge11\"><title>2596679260592-&gt;2596679462864</title>\n",
       "<path d=\"M65.667,-146.313C70.6196,-137.941 76.6792,-127.697 82.1773,-118.403\" fill=\"none\" stroke=\"black\"/>\n",
       "<polygon fill=\"black\" points=\"85.3476,-119.918 87.4266,-109.529 79.3228,-116.354 85.3476,-119.918\" stroke=\"black\"/>\n",
       "</g>\n",
       "<!-- 2596679890760 -->\n",
       "<g class=\"node\" id=\"node11\"><title>2596679890760</title>\n",
       "<polygon fill=\"none\" points=\"42,-0.5 42,-36.5 153,-36.5 153,-0.5 42,-0.5\" stroke=\"black\"/>\n",
       "<text font-family=\"Times New Roman,serif\" font-size=\"14.00\" text-anchor=\"middle\" x=\"97.5\" y=\"-14.8\">dense_28: Dense</text>\n",
       "</g>\n",
       "<!-- 2596679462864&#45;&gt;2596679890760 -->\n",
       "<g class=\"edge\" id=\"edge12\"><title>2596679462864-&gt;2596679890760</title>\n",
       "<path d=\"M97.5,-73.3129C97.5,-65.2895 97.5,-55.5475 97.5,-46.5691\" fill=\"none\" stroke=\"black\"/>\n",
       "<polygon fill=\"black\" points=\"101,-46.5288 97.5,-36.5288 94.0001,-46.5289 101,-46.5288\" stroke=\"black\"/>\n",
       "</g>\n",
       "</g>\n",
       "</svg>"
      ],
      "text/plain": [
       "<IPython.core.display.SVG object>"
      ]
     },
     "execution_count": 24,
     "metadata": {},
     "output_type": "execute_result"
    }
   ],
   "source": [
    "os.environ[\"PATH\"] += os.pathsep + 'C:/Program Files (x86)/Graphviz2.38/bin/'\n",
    "plot_model(model, to_file='model.png')\n",
    "SVG(model_to_dot(model).create(prog='dot', format='svg'))"
   ]
  },
  {
   "cell_type": "code",
   "execution_count": null,
   "metadata": {},
   "outputs": [],
   "source": []
  },
  {
   "cell_type": "code",
   "execution_count": null,
   "metadata": {},
   "outputs": [],
   "source": []
  }
 ],
 "metadata": {
  "kernelspec": {
   "display_name": "Python 3",
   "language": "python",
   "name": "python3"
  },
  "language_info": {
   "codemirror_mode": {
    "name": "ipython",
    "version": 3
   },
   "file_extension": ".py",
   "mimetype": "text/x-python",
   "name": "python",
   "nbconvert_exporter": "python",
   "pygments_lexer": "ipython3",
   "version": "3.6.4"
  }
 },
 "nbformat": 4,
 "nbformat_minor": 2
}
