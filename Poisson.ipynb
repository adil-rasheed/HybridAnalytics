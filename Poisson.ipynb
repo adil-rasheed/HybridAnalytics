{
 "cells": [
  {
   "cell_type": "markdown",
   "metadata": {},
   "source": [
    "# Importing the required packages"
   ]
  },
  {
   "cell_type": "code",
   "execution_count": 1,
   "metadata": {},
   "outputs": [],
   "source": [
    "import numpy as np\n",
    "import matplotlib.pyplot as plt\n",
    "%matplotlib inline"
   ]
  },
  {
   "cell_type": "code",
   "execution_count": 2,
   "metadata": {},
   "outputs": [],
   "source": [
    "# plate size, m\n",
    "w = h = 0.010\n",
    "# intervals in x-, y- directions, mm\n",
    "dx = dy = 0.0002\n",
    "# Thermal diffusivity of steel, mm2.s-1\n",
    "K = 4.*0.001*0.001\n",
    "rho=1.0\n",
    "cp=1.0\n",
    "Tcool, Thot = 300, 700\n",
    "nsteps = 20000"
   ]
  },
  {
   "cell_type": "code",
   "execution_count": 3,
   "metadata": {},
   "outputs": [],
   "source": [
    "nx, ny = int(w/dx), int(h/dy)\n",
    "dx2, dy2 = dx*dx, dy*dy\n",
    "dt = dx2 * dy2 / (2 * K * (dx2 + dy2)/rho/cp)\n",
    "T0 = Tcool * np.ones((nx, ny))\n",
    "T = np.empty((nx, ny))\n",
    "q = np.zeros((nx, ny))"
   ]
  },
  {
   "cell_type": "code",
   "execution_count": 4,
   "metadata": {},
   "outputs": [],
   "source": [
    "# Initial conditions - ring of inner radius r, width dr centred at (cx,cy) (mm)\n",
    "r, cx, cy = 0.002, 0.005, 0.005\n",
    "r2 = r**2\n",
    "for i in range(nx):\n",
    "    for j in range(ny):\n",
    "        p2 = (i*dx-cx)**2 + (j*dy-cy)**2\n",
    "        if p2 < r2:\n",
    "            T0[i,j] = Thot"
   ]
  },
  {
   "cell_type": "code",
   "execution_count": 5,
   "metadata": {},
   "outputs": [],
   "source": [
    "def do_timestep(T0, T):\n",
    "    # Propagate with forward-difference in time, central-difference in space\n",
    "    T[1:-1, 1:-1] = T0[1:-1, 1:-1] + (K * dt/rho/cp) * (\n",
    "          (T0[2:, 1:-1] - 2*T0[1:-1, 1:-1] + T0[:-2, 1:-1])/dx2\n",
    "          + (T0[1:-1, 2:] - 2*T0[1:-1, 1:-1] + T0[1:-1, :-2])/dy2 ) +q[1:-1,1:-1]*(dt/rho/cp)\n",
    "\n",
    "    T0 = T.copy()\n",
    "    return T0, T"
   ]
  },
  {
   "cell_type": "markdown",
   "metadata": {},
   "source": [
    "# Solve the equations to generate the temperature field"
   ]
  },
  {
   "cell_type": "code",
   "execution_count": 6,
   "metadata": {},
   "outputs": [],
   "source": [
    "X=np.zeros((nsteps,nx,ny))\n",
    "for m in range(nsteps):\n",
    "    T0, T = do_timestep(T0, T)\n",
    "    X[m,:,:]=T[:,:]"
   ]
  },
  {
   "cell_type": "markdown",
   "metadata": {},
   "source": [
    "# Preparing data for training"
   ]
  },
  {
   "cell_type": "code",
   "execution_count": 7,
   "metadata": {},
   "outputs": [],
   "source": [
    "X_train=np.reshape(X, (len(X), nx, ny, 1))"
   ]
  },
  {
   "cell_type": "code",
   "execution_count": 8,
   "metadata": {},
   "outputs": [],
   "source": [
    "# We want to predict the temperature field at time \"n+1\" using the temperature field at time \"n\"\n",
    "X1_train=X_train[0:len(X_train)-1,:,:,:]\n",
    "y1_train=X_train[1:len(X_train),:,:,:]"
   ]
  },
  {
   "cell_type": "code",
   "execution_count": 9,
   "metadata": {},
   "outputs": [
    {
     "name": "stderr",
     "output_type": "stream",
     "text": [
      "C:\\ProgramData\\Anaconda3\\lib\\site-packages\\h5py\\__init__.py:36: FutureWarning: Conversion of the second argument of issubdtype from `float` to `np.floating` is deprecated. In future, it will be treated as `np.float64 == np.dtype(float).type`.\n",
      "  from ._conv import register_converters as _register_converters\n",
      "Using TensorFlow backend.\n"
     ]
    }
   ],
   "source": [
    "from keras.layers import Input, Dense, Conv2D, MaxPooling2D, UpSampling2D\n",
    "from keras.models import Model\n",
    "from keras import backend as K\n",
    "input_img = Input(shape=(nx, ny, 1))\n",
    "x = Conv2D(16, (3, 3), activation='relu', padding='same')(input_img)\n",
    "x = Conv2D(8, (3, 3), activation='relu', padding='same')(x)\n",
    "encoded = Conv2D(8, (3, 3), activation='relu', padding='same')(x)\n",
    "x = Conv2D(8, (3, 3), activation='relu', padding='same')(encoded)\n",
    "x = Conv2D(8, (3, 3), activation='relu', padding='same')(x)\n",
    "x = Conv2D(16, (3, 3), activation='relu',padding='same')(x)\n",
    "decoded = Conv2D(1, (3, 3), activation='linear', padding='same')(x)\n",
    "autoencoder = Model(input_img, decoded)\n",
    "autoencoder.compile(loss='mean_squared_error', optimizer='adam')"
   ]
  },
  {
   "cell_type": "code",
   "execution_count": null,
   "metadata": {},
   "outputs": [
    {
     "name": "stdout",
     "output_type": "stream",
     "text": [
      "Epoch 1/10\n"
     ]
    }
   ],
   "source": [
    "autoencoder.fit(X1_train, y1_train,epochs=10,batch_size=500)"
   ]
  },
  {
   "cell_type": "code",
   "execution_count": null,
   "metadata": {},
   "outputs": [],
   "source": [
    "plt.contourf(X1_train[0,:,:,0])\n",
    "plt.show()"
   ]
  },
  {
   "cell_type": "markdown",
   "metadata": {},
   "source": [
    "# Make the predictions using CNN"
   ]
  },
  {
   "cell_type": "code",
   "execution_count": null,
   "metadata": {},
   "outputs": [],
   "source": [
    "xtest=X1_train[0,:,:,0]\n",
    "xtest=np.reshape(xtest,(1,nx,ny,1))\n",
    "Xconv=np.zeros((nsteps,nx,ny))\n",
    "for m in range(nsteps):\n",
    "    xtest=autoencoder.predict(xtest)\n",
    "    Xconv[m,:,:]=xtest[0,:,:,0]"
   ]
  },
  {
   "cell_type": "code",
   "execution_count": null,
   "metadata": {},
   "outputs": [],
   "source": [
    "plt.contourf(Xconv[200,:,:])\n",
    "plt.show()"
   ]
  },
  {
   "cell_type": "code",
   "execution_count": null,
   "metadata": {},
   "outputs": [],
   "source": [
    "plt.plot(Xconv[0:2000,25,25])\n",
    "plt.plot(X1_train[0:2000,25,25,0])\n",
    "plt.show()"
   ]
  }
 ],
 "metadata": {
  "kernelspec": {
   "display_name": "Python 3",
   "language": "python",
   "name": "python3"
  },
  "language_info": {
   "codemirror_mode": {
    "name": "ipython",
    "version": 3
   },
   "file_extension": ".py",
   "mimetype": "text/x-python",
   "name": "python",
   "nbconvert_exporter": "python",
   "pygments_lexer": "ipython3",
   "version": "3.6.4"
  }
 },
 "nbformat": 4,
 "nbformat_minor": 2
}
