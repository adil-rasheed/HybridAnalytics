{
 "cells": [
  {
   "cell_type": "markdown",
   "metadata": {},
   "source": [
    "# Uses of DMD\n",
    "* <b>Diagnostics:</b> The algorithms extracts key low-rank spatiotemporal features of many high-dimensional systems, allowing for physically interpretable results in terms of spatial structures and their associated temporal responses. The diagnostic nature of DMD allows for the data-driven discovery of fundamental low-rank structures in complex systems analogous to Proper Orthogonal Decomposition\n",
    "\n",
    "\n",
    "* <b>State estimation and future state prediction:</b> Using the spatio temporal structures that are dominant in the data to construct dynamical models of the underlying processes observed. This is a much more difficult task, especially as DMD is limited to constructing the best-fit (least-square) linear dynamic system to the nonlinear dynamical systems generating the data. The goal is to aniticipate the state of the system in a regime where no measurements were made. Confounding the regressive nature of DMD is the fact that the underlying dynamics can be exhibit multiscale dynamics in both time an dsopace. \n",
    "\n",
    "\n",
    "* <b>Control:</b> Enabling viable and robust control strategies directly from data sampling is the ultimate and most challenging, goal of the DMD algorithm. Given that we are using a linear dynamical model to predict the future of a nonlinear dynamical syystem, it is reasonable to expect that there is only a limited, perhaps short-time, window in the future where tghe two models will actually agree."
   ]
  },
  {
   "cell_type": "markdown",
   "metadata": {},
   "source": [
    "# Formulating the DMD architecture\n",
    "In the DMD architecture, we typically consider data collected from a dynamical system \n",
    "$$\\frac{d\\textbf{x}}{dt}=\\textbf{f}(\\textbf{x},t;\\mu)$$\n",
    "The state $\\textbf{x}$ is typically quite large, having dimension $n>>1$. This state may arise from as the discretization of a partial differential equation at a number of spatial locations. Finally, the continuous-time dynamics may also induce a discrete-time representation, in which we sample the system every $\\Delta t$ in time. We denote the discrete-time flow map obtained by evolving $$\\textbf{x}_{k+1}=\\textbf{F(x}_{k})$$ \n",
    "\n",
    "The DMD framework takes the equation-free perspective, where the dynamics $\\textbf{f}(\\textbf{x},t;\\mu))$ may be unknown. Thus data measurements of the system alone are used to approximate the dynamics and predict the future state. The DMD procedure constructs the proxy, approximate locally linear dynamical system\n",
    "$$\\frac{d\\textbf{x}}{dt}=A \\textbf{x}$$\n",
    "with initial condition $\\textbf{x}(0)$ \n",
    "\n",
    "If we assume $$x=Vexp(\\lambda t)$$\n",
    "$$\\lambda V = A V$$\n",
    "\n",
    "giving eigenfunctions $\\phi_{j}$\n",
    "and eigen values $\\lambda_{j}$\n",
    "\n",
    "and the well-known solution becomes\n",
    "$$x(t)=\\Sigma_{k=1}^{n}\\phi_{k}exp(\\lambda_{k}t)b_{k}=\\Phi exp(\\Lambda t)\\textbf{b}$$\n",
    "where $\\phi_{k}$ and $\\omega_{k}$ are the eigenvectors and eigenvalues of the matrix $\\psi$ and coefficients $b_{k}$ are teh coordinates of $\\textbf{x}(0)$ in the eigenvector basis.\n",
    "Given continuous dynamics, it is as always possible to describe an analogous discrete-time system samples every $\\Delta t$ in time:\n",
    "$$\\textbf{x}_{k+1}=\\textbf{Ax}_{k}$$\n",
    "where $$\\textbf{A}=exp(\\psi \\Delta t)$$"
   ]
  },
  {
   "cell_type": "markdown",
   "metadata": {},
   "source": [
    "X = "
   ]
  }
 ],
 "metadata": {
  "kernelspec": {
   "display_name": "Python 3",
   "language": "python",
   "name": "python3"
  },
  "language_info": {
   "codemirror_mode": {
    "name": "ipython",
    "version": 3
   },
   "file_extension": ".py",
   "mimetype": "text/x-python",
   "name": "python",
   "nbconvert_exporter": "python",
   "pygments_lexer": "ipython3",
   "version": "3.6.4"
  }
 },
 "nbformat": 4,
 "nbformat_minor": 2
}
