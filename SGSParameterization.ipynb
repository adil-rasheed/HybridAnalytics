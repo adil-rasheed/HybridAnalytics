{
 "cells": [
  {
   "cell_type": "code",
   "execution_count": 1,
   "metadata": {},
   "outputs": [
    {
     "name": "stderr",
     "output_type": "stream",
     "text": [
      "C:\\ProgramData\\Anaconda3\\lib\\site-packages\\h5py\\__init__.py:36: FutureWarning: Conversion of the second argument of issubdtype from `float` to `np.floating` is deprecated. In future, it will be treated as `np.float64 == np.dtype(float).type`.\n",
      "  from ._conv import register_converters as _register_converters\n",
      "Using TensorFlow backend.\n"
     ]
    }
   ],
   "source": [
    "import numpy as np\n",
    "import matplotlib.pyplot as plt\n",
    "from sklearn.metrics import mean_squared_error\n",
    "%matplotlib inline\n",
    "# Make a neural network architecture\n",
    "import keras\n",
    "from keras.models import Sequential\n",
    "from keras.layers import Dense"
   ]
  },
  {
   "cell_type": "code",
   "execution_count": 2,
   "metadata": {},
   "outputs": [],
   "source": [
    "def normalize(u,mean,std):\n",
    "    unorm = (u - mean) / std  # Mean of 0.0 and variance of 1.0\n",
    "    return unorm"
   ]
  },
  {
   "cell_type": "code",
   "execution_count": 3,
   "metadata": {},
   "outputs": [],
   "source": [
    "def load_data(filename,data_size):\n",
    "    #Loading data from Tecplot file (check number of skiprows) - no tecplot header\n",
    "    fine_data = np.loadtxt(filename)\n",
    "\n",
    "    # Store in numpy array\n",
    "    vort_fc= np.arange((data_size + 1)* (data_size + 1), dtype='double').reshape(data_size + 1, data_size + 1)\n",
    "    vort_cs = np.arange((data_size + 1) * (data_size + 1), dtype='double').reshape(data_size + 1, data_size + 1)\n",
    "\n",
    "    iter = 0\n",
    "    for j in range(0, data_size + 1):\n",
    "        for i in range(0, data_size + 1):\n",
    "            vort_fc[i, j] = fine_data[iter, 0]\n",
    "            vort_cs[i, j] = fine_data[iter, 1]\n",
    "            iter = iter + 1\n",
    "\n",
    "    vort_fc_per = np.arange((data_size) * (data_size), dtype='double').reshape(data_size, data_size)\n",
    "    vort_cs_per = np.arange((data_size) * (data_size), dtype='double').reshape(data_size, data_size)\n",
    "\n",
    "    for j in range(0, data_size):\n",
    "        for i in range(0, data_size):\n",
    "            vort_fc_per[i, j] = vort_fc[i, j]\n",
    "            vort_cs_per[i, j] = vort_cs[i, j]\n",
    "            \n",
    "    #Normalizing inputs to mean of 0.0 and variance of 1.0\n",
    "    vort_fc_mean = np.mean(vort_fc_per)\n",
    "    vort_fc_std = np.std(vort_fc_per)\n",
    "\n",
    "    vort_fc_per = normalize(vort_fc_per, vort_fc_mean, vort_fc_std)\n",
    "    vort_cs_per = normalize(vort_cs_per, vort_fc_mean, vort_fc_std)\n",
    "\n",
    "\n",
    "    return [vort_fc_per, vort_cs_per]"
   ]
  },
  {
   "cell_type": "code",
   "execution_count": 4,
   "metadata": {},
   "outputs": [],
   "source": [
    "def make_training_data(data_dict, data_size, max_iter):\n",
    "\n",
    "    stencil_matrix = np.zeros((max_iter,9),dtype='double')\n",
    "    source_matrix = np.zeros((max_iter, 1), dtype='double')\n",
    "\n",
    "    global seed_val\n",
    "    np.random.seed(seed_val)\n",
    "\n",
    "    for iter in range(0,max_iter):\n",
    "        i = np.random.randint(1, data_size-1)\n",
    "        j = np.random.randint(1, data_size-1)\n",
    "\n",
    "        sub_iter = 0\n",
    "        #Inputs are \\bar{omega} \n",
    "        stencil_matrix[iter, sub_iter + 0] = data_dict[0][i, j]\n",
    "        stencil_matrix[iter, sub_iter + 1] = data_dict[0][i, j + 1]\n",
    "        stencil_matrix[iter, sub_iter + 2] = data_dict[0][i, j - 1]\n",
    "        stencil_matrix[iter, sub_iter + 3] = data_dict[0][i + 1, j]\n",
    "        stencil_matrix[iter, sub_iter + 4] = data_dict[0][i + 1, j + 1]\n",
    "        stencil_matrix[iter, sub_iter + 5] = data_dict[0][i + 1, j - 1]\n",
    "        stencil_matrix[iter, sub_iter + 6] = data_dict[0][i - 1, j]\n",
    "        stencil_matrix[iter, sub_iter + 7] = data_dict[0][i - 1, j + 1]\n",
    "        stencil_matrix[iter, sub_iter + 8] = data_dict[0][i - 1, j - 1]\n",
    "\n",
    "        #Outputs are \\omega^c\n",
    "        source_matrix[iter, 0] = data_dict[1][i, j]\n",
    "\n",
    "        #You can flip the data_dict[index] for training other map\n",
    "    return [stencil_matrix, source_matrix]"
   ]
  },
  {
   "cell_type": "code",
   "execution_count": 5,
   "metadata": {},
   "outputs": [],
   "source": [
    "data_size = 256\n",
    "#Test data generation\n",
    "seed_val = 1\n",
    "#Large unnormalized databank generated\n",
    "max_iter = 30000#A maximum of 256*256 is possible - choose a number lesser than it for random sampling\n",
    "\n",
    "t_init = 0\n",
    "t_end = 4\n",
    "\n",
    "for time in range(t_init,t_end+1):\n",
    "    filename = r'Source.' + str(500+time)\n",
    "    data_dict = load_data(filename, data_size)\n",
    "\n",
    "    if time == t_init:\n",
    "        training_dict = make_training_data(data_dict, data_size, max_iter)\n",
    "\n",
    "    else:\n",
    "        training_dict_temp = make_training_data(data_dict, data_size, max_iter)\n",
    "\n",
    "        training_dict[0] = np.concatenate((training_dict[0],training_dict_temp[0]),axis=0)\n",
    "        training_dict[1] = np.concatenate((training_dict[1],training_dict_temp[1]),axis=0)\n"
   ]
  },
  {
   "cell_type": "code",
   "execution_count": 6,
   "metadata": {},
   "outputs": [],
   "source": [
    "import keras.backend as K\n",
    "def coeff_determination(y_true, y_pred):\n",
    "    SS_res =  np.sum(np.square( y_true-y_pred ))\n",
    "    SS_tot = np.sum(np.square( y_true - np.mean(y_true) ) )\n",
    "    return ( 1 - SS_res/(SS_tot + K.epsilon()) )"
   ]
  },
  {
   "cell_type": "code",
   "execution_count": 7,
   "metadata": {},
   "outputs": [],
   "source": [
    "X=training_dict[0]\n",
    "y=training_dict[1]"
   ]
  },
  {
   "cell_type": "code",
   "execution_count": 8,
   "metadata": {},
   "outputs": [],
   "source": [
    "from sklearn.model_selection import train_test_split\n",
    "X_train, X_test, y_train, y_test =  train_test_split(X,y,test_size=0.2,random_state = 0)"
   ]
  },
  {
   "cell_type": "markdown",
   "metadata": {},
   "source": [
    "# Different architecture of artificial neural networks"
   ]
  },
  {
   "cell_type": "code",
   "execution_count": 9,
   "metadata": {},
   "outputs": [],
   "source": [
    "def network_1layer():\n",
    "    NN_reg = Sequential()\n",
    "    NN_reg.add(Dense(input_dim = 9, units = 100, activation = 'relu'))\n",
    "    NN_reg.add(Dense(units = 1, activation = 'linear'))\n",
    "    NN_reg.compile(loss='mean_squared_error', optimizer='adam')\n",
    "    return NN_reg\n",
    "\n",
    "def network_3layer():\n",
    "    NN_reg = Sequential()\n",
    "    NN_reg.add(Dense(input_dim = 9, units = 100, activation = 'relu'))\n",
    "    NN_reg.add(Dense(               units = 100, activation = 'relu'))\n",
    "    NN_reg.add(Dense(               units = 100, activation = 'relu'))\n",
    "    NN_reg.add(Dense(               units = 1, activation = 'linear'))\n",
    "    NN_reg.compile(loss='mean_squared_error', optimizer='adam')\n",
    "    return NN_reg\n",
    "\n",
    "def network_5layer():\n",
    "    NN_reg = Sequential()\n",
    "    NN_reg.add(Dense(input_dim = 9, units = 100, activation = 'relu'))\n",
    "    NN_reg.add(Dense(               units = 100, activation = 'relu'))\n",
    "    NN_reg.add(Dense(               units = 100, activation = 'relu'))\n",
    "    NN_reg.add(Dense(               units = 100, activation = 'relu'))\n",
    "    NN_reg.add(Dense(               units = 100, activation = 'relu'))\n",
    "    NN_reg.add(Dense(               units = 1, activation = 'linear'))\n",
    "    NN_reg.compile(loss='mean_squared_error', optimizer='adam')\n",
    "    return NN_reg\n",
    "\n",
    "def network_7layer():\n",
    "    NN_reg = Sequential()\n",
    "    NN_reg.add(Dense(input_dim = 9, units = 100, activation = 'relu'))\n",
    "    NN_reg.add(Dense(               units = 100, activation = 'relu'))\n",
    "    NN_reg.add(Dense(               units = 100, activation = 'relu'))\n",
    "    NN_reg.add(Dense(               units = 100, activation = 'relu'))\n",
    "    NN_reg.add(Dense(               units = 100, activation = 'relu'))\n",
    "    NN_reg.add(Dense(               units = 100, activation = 'relu'))\n",
    "    NN_reg.add(Dense(               units = 100, activation = 'relu'))\n",
    "    NN_reg.add(Dense(               units = 1, activation = 'linear'))\n",
    "    NN_reg.compile(loss='mean_squared_error', optimizer='adam')\n",
    "    return NN_reg\n",
    "\n",
    "def network_1layer_10N():\n",
    "    NN_reg = Sequential()\n",
    "    NN_reg.add(Dense(input_dim = 9, units = 10, activation = 'relu'))\n",
    "    NN_reg.add(Dense(units = 1, activation = 'linear'))\n",
    "    NN_reg.compile(loss='mean_squared_error', optimizer='adam')\n",
    "    return NN_reg\n",
    "\n",
    "def network_1layer_50N():\n",
    "    NN_reg = Sequential()\n",
    "    NN_reg.add(Dense(input_dim = 9, units = 10, activation = 'relu'))\n",
    "    NN_reg.add(Dense(units = 1, activation = 'linear'))\n",
    "    NN_reg.compile(loss='mean_squared_error', optimizer='adam')\n",
    "    return NN_reg\n",
    "\n",
    "def network_1layer_150N():\n",
    "    NN_reg = Sequential()\n",
    "    NN_reg.add(Dense(input_dim = 9, units = 10, activation = 'relu'))\n",
    "    NN_reg.add(Dense(units = 1, activation = 'linear'))\n",
    "    NN_reg.compile(loss='mean_squared_error', optimizer='adam')\n",
    "    return NN_reg"
   ]
  },
  {
   "cell_type": "markdown",
   "metadata": {},
   "source": [
    "# Training the artificial neural networks"
   ]
  },
  {
   "cell_type": "code",
   "execution_count": 10,
   "metadata": {},
   "outputs": [
    {
     "data": {
      "text/plain": [
       "<keras.callbacks.History at 0x2ac1f5cdd68>"
      ]
     },
     "execution_count": 10,
     "metadata": {},
     "output_type": "execute_result"
    }
   ],
   "source": [
    "NN_reg1_layer = network_1layer()\n",
    "NN_reg1_layer_10N = network_1layer_10N()\n",
    "NN_reg1_layer_50N = network_1layer_50N()\n",
    "NN_reg1_layer_150N = network_1layer_150N()\n",
    "NN_reg3_layer = network_3layer()\n",
    "NN_reg5_layer = network_5layer()\n",
    "NN_reg7_layer = network_7layer()\n",
    "NN_reg1_layer.fit(X_train,y_train,epochs=100,batch_size=1024,verbose=0)\n",
    "NN_reg1_layer_10N.fit(X_train,y_train,epochs=100,batch_size=1024,verbose=0)\n",
    "NN_reg1_layer_50N.fit(X_train,y_train,epochs=100,batch_size=1024,verbose=0)\n",
    "NN_reg1_layer_150N.fit(X_train,y_train,epochs=100,batch_size=1024,verbose=0)\n",
    "NN_reg3_layer.fit(X_train,y_train,epochs=100,batch_size=1024,verbose=0)\n",
    "NN_reg5_layer.fit(X_train,y_train,epochs=100,batch_size=1024,verbose=0)\n",
    "NN_reg7_layer.fit(X_train,y_train,epochs=100,batch_size=1024,verbose=0)"
   ]
  },
  {
   "cell_type": "code",
   "execution_count": 11,
   "metadata": {},
   "outputs": [],
   "source": [
    "y_pred1_layer_train=NN_reg1_layer.predict(X_train)\n",
    "y_pred1_layer_test=NN_reg1_layer.predict(X_test)\n",
    "y_pred1_layer_10N_train=NN_reg1_layer_10N.predict(X_train)\n",
    "y_pred1_layer_10N_test =NN_reg1_layer_10N.predict(X_test)\n",
    "y_pred1_layer_50N_train=NN_reg1_layer_50N.predict(X_train)\n",
    "y_pred1_layer_50N_test =NN_reg1_layer_50N.predict(X_test)\n",
    "y_pred1_layer_150N_train=NN_reg1_layer_150N.predict(X_train)\n",
    "y_pred1_layer_150N_test =NN_reg1_layer_150N.predict(X_test)\n",
    "y_pred3_layer_train=NN_reg3_layer.predict(X_train)\n",
    "y_pred3_layer_test=NN_reg3_layer.predict(X_test)\n",
    "y_pred5_layer_train=NN_reg5_layer.predict(X_train)\n",
    "y_pred5_layer_test=NN_reg5_layer.predict(X_test)\n",
    "y_pred7_layer_train=NN_reg7_layer.predict(X_train)\n",
    "y_pred7_layer_test=NN_reg7_layer.predict(X_test)"
   ]
  },
  {
   "cell_type": "markdown",
   "metadata": {},
   "source": [
    "# Computing the mean squared error"
   ]
  },
  {
   "cell_type": "code",
   "execution_count": 12,
   "metadata": {},
   "outputs": [],
   "source": [
    "MSE1_layer_train=mean_squared_error(y_pred1_layer_train,y_train)\n",
    "MSE1_layer_10N_train =mean_squared_error(y_pred1_layer_10N_train ,y_train)\n",
    "MSE1_layer_50N_train =mean_squared_error(y_pred1_layer_50N_train ,y_train)\n",
    "MSE1_layer_150N_train=mean_squared_error(y_pred1_layer_150N_train,y_train)\n",
    "MSE3_layer_train=mean_squared_error(y_pred3_layer_train,y_train)\n",
    "MSE5_layer_train=mean_squared_error(y_pred5_layer_train,y_train)\n",
    "MSE7_layer_train=mean_squared_error(y_pred7_layer_train,y_train)\n",
    "MSE1_layer_test=mean_squared_error(y_pred1_layer_test,y_test)\n",
    "MSE1_layer_10N_test =mean_squared_error(y_pred1_layer_10N_test ,y_test)\n",
    "MSE1_layer_50N_test =mean_squared_error(y_pred1_layer_50N_test ,y_test)\n",
    "MSE1_layer_150N_test=mean_squared_error(y_pred1_layer_150N_test,y_test)\n",
    "MSE3_layer_test=mean_squared_error(y_pred3_layer_test,y_test)\n",
    "MSE5_layer_test=mean_squared_error(y_pred5_layer_test,y_test)\n",
    "MSE7_layer_test=mean_squared_error(y_pred7_layer_test,y_test)"
   ]
  },
  {
   "cell_type": "markdown",
   "metadata": {},
   "source": [
    "# Comparing the mean squared error in predictions by different ANN"
   ]
  },
  {
   "cell_type": "code",
   "execution_count": 13,
   "metadata": {},
   "outputs": [
    {
     "data": {
      "text/plain": [
       "Text(0,0.5,'Mean Square Error')"
      ]
     },
     "execution_count": 13,
     "metadata": {},
     "output_type": "execute_result"
    },
    {
     "data": {
      "image/png": "[encoded data removed]",
      "text/plain": [
       "<matplotlib.figure.Figure at 0x2ac7cbc8e48>"
      ]
     },
     "metadata": {},
     "output_type": "display_data"
    }
   ],
   "source": [
    "fig=plt.figure(figsize=(16,10))\n",
    "myplt = [MSE1_layer_10N_train, MSE1_layer_10N_test,MSE1_layer_50N_train, MSE1_layer_50N_test,  MSE1_layer_train, MSE1_layer_test,MSE1_layer_150N_train, MSE1_layer_150N_test, MSE3_layer_train, MSE3_layer_test,MSE5_layer_train, MSE5_layer_test,MSE7_layer_train, MSE7_layer_test]\n",
    "plt.bar(range(len(myplt)), myplt)\n",
    "plt.xticks(range(len(myplt)), ('1L10N-train', '1L10N-test','1L50N-train', '1L50N-test','1L100N-train', '1L100N-test','1L150N-train', '1L150N-test','3L-train','3L-test', '5L-train' , '5L-test', '7L-train','7L-test'),rotation='vertical')\n",
    "plt.ylabel('Mean Square Error')"
   ]
  },
  {
   "cell_type": "markdown",
   "metadata": {},
   "source": [
    "# Linear Regression"
   ]
  },
  {
   "cell_type": "code",
   "execution_count": 16,
   "metadata": {},
   "outputs": [],
   "source": [
    "#Training the model#Traini \n",
    "from sklearn import linear_model\n",
    "lr = linear_model.LinearRegression()\n",
    "lr.fit(X_train,y_train)\n",
    "LR_prediction_train=lr.predict(X_train)\n",
    "LR_prediction_test=lr.predict(X_test)\n",
    "LR_MRS_train=mean_squared_error(LR_prediction_train,y_train)\n",
    "LR_MRS_test=mean_squared_error(LR_prediction_test,y_test)"
   ]
  },
  {
   "cell_type": "markdown",
   "metadata": {},
   "source": [
    "# Random Forest"
   ]
  },
  {
   "cell_type": "code",
   "execution_count": 28,
   "metadata": {},
   "outputs": [
    {
     "name": "stderr",
     "output_type": "stream",
     "text": [
      "C:\\ProgramData\\Anaconda3\\lib\\site-packages\\ipykernel_launcher.py:9: DataConversionWarning: A column-vector y was passed when a 1d array was expected. Please change the shape of y to (n_samples,), for example using ravel().\n",
      "  if __name__ == '__main__':\n"
     ]
    }
   ],
   "source": [
    "#Training the model\n",
    "from sklearn.ensemble import RandomForestRegressor\n",
    "from sklearn.metrics import mean_squared_error, r2_score\n",
    "rf = RandomForestRegressor(n_estimators=50, criterion='mse', max_depth=10, min_samples_split=2, \n",
    "                           min_samples_leaf=4, min_weight_fraction_leaf=0.0, max_features='auto', \n",
    "                           max_leaf_nodes=None, min_impurity_decrease=0.0, min_impurity_split=None, \n",
    "                           bootstrap=True, oob_score=False, n_jobs=1, random_state=None, verbose=0, \n",
    "                           warm_start=False)\n",
    "rf.fit(X_train,y_train)\n",
    "#Make predictions on the training and test sets\n",
    "RF_prediction_test = rf.predict(X_test)\n",
    "RF_prediction_train = rf.predict(X_train)\n",
    "RF_MRS_train=mean_squared_error(RF_prediction_train,y_train)\n",
    "RF_MRS_test=mean_squared_error(RF_prediction_test,y_test)"
   ]
  },
  {
   "cell_type": "markdown",
   "metadata": {},
   "source": [
    "# Decision Tree"
   ]
  },
  {
   "cell_type": "code",
   "execution_count": 32,
   "metadata": {},
   "outputs": [],
   "source": [
    "#Training the model\n",
    "from sklearn import tree\n",
    "dt = tree.DecisionTreeRegressor(criterion='mse', splitter='best', max_depth=10, \n",
    "                                min_samples_split=2, min_samples_leaf=1, min_weight_fraction_leaf=0.0, \n",
    "                                max_features=None, random_state=None, max_leaf_nodes=None, min_impurity_decrease=0.0,\n",
    "                                min_impurity_split=None, presort=False)\n",
    "dt.fit(X_train,y_train)\n",
    "#Make predictions on the training and test sets\n",
    "DT_prediction_test = dt.predict(X_test)\n",
    "DT_prediction_train = dt.predict(X_train)\n",
    "#Report the errors in prediction on the train and the test set\n",
    "DT_MRS_train=mean_squared_error(DT_prediction_train,y_train)\n",
    "DT_MRS_test=mean_squared_error(DT_prediction_test,y_test)"
   ]
  },
  {
   "cell_type": "markdown",
   "metadata": {},
   "source": [
    "# Inter-comparison of different ML algorithms"
   ]
  },
  {
   "cell_type": "code",
   "execution_count": 33,
   "metadata": {},
   "outputs": [
    {
     "data": {
      "text/plain": [
       "Text(0,0.5,'Mean Square Error')"
      ]
     },
     "execution_count": 33,
     "metadata": {},
     "output_type": "execute_result"
    },
    {
     "data": {
      "image/png": "[encoded data removed]",
      "text/plain": [
       "<matplotlib.figure.Figure at 0x2ac10ac3358>"
      ]
     },
     "metadata": {},
     "output_type": "display_data"
    }
   ],
   "source": [
    "fig=plt.figure(figsize=(16,10))\n",
    "myplt = [LR_MRS_train, LR_MRS_test,DT_MRS_train, DT_MRS_test, RF_MRS_train, RF_MRS_test, MSE1_layer_train, MSE1_layer_test]\n",
    "plt.bar(range(len(myplt)), myplt)\n",
    "plt.xticks(range(len(myplt)), ('LR-train', 'LR-test','DT-train','DT-test', 'RF-train' , 'RF-test','NN-train','NN-test'))\n",
    "plt.ylabel('Mean Square Error')"
   ]
  },
  {
   "cell_type": "code",
   "execution_count": null,
   "metadata": {},
   "outputs": [],
   "source": []
  },
  {
   "cell_type": "code",
   "execution_count": null,
   "metadata": {},
   "outputs": [],
   "source": []
  }
 ],
 "metadata": {
  "kernelspec": {
   "display_name": "Python 3",
   "language": "python",
   "name": "python3"
  },
  "language_info": {
   "codemirror_mode": {
    "name": "ipython",
    "version": 3
   },
   "file_extension": ".py",
   "mimetype": "text/x-python",
   "name": "python",
   "nbconvert_exporter": "python",
   "pygments_lexer": "ipython3",
   "version": "3.6.4"
  }
 },
 "nbformat": 4,
 "nbformat_minor": 2
}
